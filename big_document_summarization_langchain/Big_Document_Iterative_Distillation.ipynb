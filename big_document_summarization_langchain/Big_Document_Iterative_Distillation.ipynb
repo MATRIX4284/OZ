{
 "cells": [
  {
   "cell_type": "code",
   "execution_count": 12,
   "id": "bd80ade7",
   "metadata": {},
   "outputs": [],
   "source": [
    "import numpy as np\n",
    "import numpy as np\n",
    "import matplotlib.pyplot as plt\n",
    "import os\n",
    "import json\n",
    "import pickle\n",
    "import ollama\n",
    "import chromadb\n",
    "from chromadb.config import DEFAULT_TENANT, DEFAULT_DATABASE, Settings\n",
    "\n",
    "\n",
    "import pandas as pd\n",
    "#from langchain_community.vectorstores import Chroma\n",
    "\n",
    "\n",
    "\n",
    "import pickle\n",
    "import pandas as pd\n",
    "#rag_test_input_path='/home/matrix4284/MY_GEN_AI_PROJECTS/RAG/GraphRAG/graphrag-local-ollama/ragtest/input/'+file_name\n",
    "import os\n",
    "# importing shutil module\n",
    "import shutil\n",
    "\n",
    "from langchain_community.chat_models import ChatOllama\n",
    "\n",
    "from langchain_community.embeddings import HuggingFaceEmbeddings\n",
    "\n",
    "from langchain_community.embeddings.sentence_transformer import (\n",
    "    SentenceTransformerEmbeddings,\n",
    ")\n",
    "\n",
    "#from sentence_transformers import SentenceTransformer\n",
    "#embeddings = SentenceTransformer(\"all-MiniLM-L6-v2\")\n",
    "\n",
    "from langchain.text_splitter import RecursiveCharacterTextSplitter\n",
    "from langchain_community.vectorstores import Chroma\n",
    "\n",
    "import json\n",
    "import operator\n",
    "from typing import Annotated, Sequence, TypedDict\n",
    "\n",
    "from langchain import hub\n",
    "from langchain.prompts import PromptTemplate\n",
    "from langchain_community.vectorstores import Chroma\n",
    "from langchain_core.messages import BaseMessage, FunctionMessage\n",
    "from langchain_core.output_parsers import StrOutputParser\n",
    "from langchain_core.pydantic_v1 import BaseModel, Field\n",
    "from langchain_core.runnables import RunnablePassthrough\n",
    "from langchain_community.chat_models import ChatOllama\n",
    "from langchain_core.output_parsers import JsonOutputParser\n",
    "import json\n",
    "import operator\n",
    "from typing import Annotated, Sequence, TypedDict\n",
    "\n",
    "from langchain import hub\n",
    "from langchain.prompts import PromptTemplate\n",
    "from langchain_community.vectorstores import Chroma\n",
    "from langchain_core.messages import BaseMessage, FunctionMessage\n",
    "from langchain_core.output_parsers import StrOutputParser\n",
    "from langchain_core.pydantic_v1 import BaseModel, Field\n",
    "from langchain_core.runnables import RunnablePassthrough\n",
    "from langchain_community.chat_models import ChatOllama\n",
    "from langchain_core.output_parsers import JsonOutputParser\n",
    "from langchain_core.output_parsers import StrOutputParser\n",
    "from langchain.output_parsers import XMLOutputParser\n",
    "from langchain.chains import MapReduceDocumentsChain, ReduceDocumentsChain\n",
    "from langchain_text_splitters import CharacterTextSplitter\n",
    "import pickle"
   ]
  },
  {
   "cell_type": "code",
   "execution_count": 13,
   "id": "c3f9ed50",
   "metadata": {},
   "outputs": [],
   "source": [
    "full_doc_sumary=[]\n",
    "doc_len=len(document_dict_deserialized)\n",
    "for i in range(0,doc_len):\n",
    "    summary=document_dict_deserialized[i][\"text\"]\n",
    "    full_doc_sumary.append(summary)"
   ]
  },
  {
   "cell_type": "code",
   "execution_count": 14,
   "id": "7181b4d8",
   "metadata": {},
   "outputs": [
    {
     "data": {
      "text/plain": [
       "'57\\nIntroducing pods\\n Therefore, you need to run each process in its own container. That’s how Docker\\nand Kubernetes are meant to be used. \\n3.1.2\\nUnderstanding pods\\nBecause you’re not supposed to group multiple processes into a single container, it’s\\nobvious you need another higher-level construct that will allow you to bind containers\\ntogether and manage them as a single unit. This is the reasoning behind pods. \\n A pod of containers allows you to run closely related processes together and pro-\\nvide them with (almost) the same environment as if they were all running in a single\\ncontainer, while keeping them somewhat isolated. This way, you get the best of both\\nworlds. You can take advantage of all the features containers provide, while at the\\nsame time giving the processes the illusion of running together. \\nUNDERSTANDING THE PARTIAL ISOLATION BETWEEN CONTAINERS OF THE SAME POD\\nIn the previous chapter, you learned that containers are completely isolated from\\neach other, but now you see that you want to isolate groups of containers instead of\\nindividual ones. You want containers inside each group to share certain resources,\\nalthough not all, so that they’re not fully isolated. Kubernetes achieves this by config-\\nuring Docker to have all containers of a pod share the same set of Linux namespaces\\ninstead of each container having its own set. \\n Because all containers of a pod run under the same Network and UTS namespaces\\n(we’re talking about Linux namespaces here), they all share the same hostname and\\nnetwork interfaces. Similarly, all containers of a pod run under the same IPC namespace\\nand can communicate through IPC. In the latest Kubernetes and Docker versions, they\\ncan also share the same PID namespace, but that feature isn’t enabled by default. \\nNOTE\\nWhen containers of the same pod use separate PID namespaces, you\\nonly see the container’s own processes when running ps aux in the container.\\nBut when it comes to the filesystem, things are a little different. Because most of the\\ncontainer’s filesystem comes from the container image, by default, the filesystem of\\neach container is fully isolated from other containers. However, it’s possible to have\\nthem share file directories using a Kubernetes concept called a Volume, which we’ll\\ntalk about in chapter 6.\\nUNDERSTANDING HOW CONTAINERS SHARE THE SAME IP AND PORT SPACE\\nOne thing to stress here is that because containers in a pod run in the same Network\\nnamespace, they share the same IP address and port space. This means processes run-\\nning in containers of the same pod need to take care not to bind to the same port\\nnumbers or they’ll run into port conflicts. But this only concerns containers in the\\nsame pod. Containers of different pods can never run into port conflicts, because\\neach pod has a separate port space. All the containers in a pod also have the same\\nloopback network interface, so a container can communicate with other containers in\\nthe same pod through localhost.\\n \\n'"
      ]
     },
     "execution_count": 14,
     "metadata": {},
     "output_type": "execute_result"
    }
   ],
   "source": [
    "full_doc_sumary[0]"
   ]
  },
  {
   "cell_type": "code",
   "execution_count": 11,
   "id": "b8970bdd",
   "metadata": {},
   "outputs": [
    {
     "ename": "NameError",
     "evalue": "name 'question_prompt_template' is not defined",
     "output_type": "error",
     "traceback": [
      "\u001b[0;31m---------------------------------------------------------------------------\u001b[0m",
      "\u001b[0;31mNameError\u001b[0m                                 Traceback (most recent call last)",
      "Cell \u001b[0;32mIn[11], line 10\u001b[0m\n\u001b[1;32m      1\u001b[0m \u001b[38;5;28;01mfrom\u001b[39;00m \u001b[38;5;21;01mlangchain\u001b[39;00m\u001b[38;5;21;01m.\u001b[39;00m\u001b[38;5;21;01mchains\u001b[39;00m\u001b[38;5;21;01m.\u001b[39;00m\u001b[38;5;21;01msummarize\u001b[39;00m \u001b[38;5;28;01mimport\u001b[39;00m load_summarize_chain\n\u001b[1;32m      3\u001b[0m prompt \u001b[38;5;241m=\u001b[39m \u001b[38;5;124m\"\"\"\u001b[39m\n\u001b[1;32m      4\u001b[0m \u001b[38;5;124m                  Please provide a summary of the following text.\u001b[39m\n\u001b[1;32m      5\u001b[0m \u001b[38;5;124m                  TEXT: \u001b[39m\u001b[38;5;132;01m{text}\u001b[39;00m\n\u001b[1;32m      6\u001b[0m \u001b[38;5;124m                  SUMMARY:\u001b[39m\n\u001b[1;32m      7\u001b[0m \u001b[38;5;124m                  \u001b[39m\u001b[38;5;124m\"\"\"\u001b[39m\n\u001b[1;32m      9\u001b[0m question_prompt \u001b[38;5;241m=\u001b[39m PromptTemplate(\n\u001b[0;32m---> 10\u001b[0m     template\u001b[38;5;241m=\u001b[39m\u001b[43mquestion_prompt_template\u001b[49m, input_variables\u001b[38;5;241m=\u001b[39m[\u001b[38;5;124m\"\u001b[39m\u001b[38;5;124mtext\u001b[39m\u001b[38;5;124m\"\u001b[39m]\n\u001b[1;32m     11\u001b[0m )\n\u001b[1;32m     13\u001b[0m refine_prompt_template \u001b[38;5;241m=\u001b[39m \u001b[38;5;124m\"\"\"\u001b[39m\n\u001b[1;32m     14\u001b[0m \u001b[38;5;124m              Write a concise summary of the following text delimited by triple backquotes.\u001b[39m\n\u001b[1;32m     15\u001b[0m \u001b[38;5;124m              Return your response in bullet points which covers the key points of the text.\u001b[39m\n\u001b[1;32m     16\u001b[0m \u001b[38;5;124m              ```\u001b[39m\u001b[38;5;132;01m{text}\u001b[39;00m\u001b[38;5;124m```\u001b[39m\n\u001b[1;32m     17\u001b[0m \u001b[38;5;124m              BULLET POINT SUMMARY:\u001b[39m\n\u001b[1;32m     18\u001b[0m \u001b[38;5;124m              \u001b[39m\u001b[38;5;124m\"\"\"\u001b[39m\n\u001b[1;32m     20\u001b[0m refine_template \u001b[38;5;241m=\u001b[39m PromptTemplate(\n\u001b[1;32m     21\u001b[0m     template\u001b[38;5;241m=\u001b[39mrefine_prompt_template, input_variables\u001b[38;5;241m=\u001b[39m[\u001b[38;5;124m\"\u001b[39m\u001b[38;5;124mtext\u001b[39m\u001b[38;5;124m\"\u001b[39m])\n",
      "\u001b[0;31mNameError\u001b[0m: name 'question_prompt_template' is not defined"
     ]
    }
   ],
   "source": [
    "from langchain.chains.summarize import load_summarize_chain\n",
    "\n",
    "\n",
    "prompt = \"\"\"\n",
    "                  Please provide a summary of the following text.\n",
    "                  TEXT: {text}\n",
    "                  SUMMARY:\n",
    "                  \"\"\"\n",
    "\n",
    "question_prompt = PromptTemplate(\n",
    "    template=question_prompt_template, input_variables=[\"text\"]\n",
    ")\n",
    "\n",
    "refine_prompt_template = \"\"\"\n",
    "              Write a concise summary of the following text delimited by triple backquotes.\n",
    "              Return your response in bullet points which covers the key points of the text.\n",
    "              ```{text}```\n",
    "              BULLET POINT SUMMARY:\n",
    "              \"\"\"\n",
    "\n",
    "refine_template = PromptTemplate(\n",
    "    template=refine_prompt_template, input_variables=[\"text\"])\n",
    "\n",
    "# Load refine chain\n",
    "chain = load_summarize_chain(\n",
    "    llm=llm,\n",
    "    chain_type=\"refine\",\n",
    "    question_prompt=question_prompt,\n",
    "    refine_prompt=refine_prompt,\n",
    "    return_intermediate_steps=True,\n",
    "    input_key=\"input_documents\",\n",
    "    output_key=\"output_text\",\n",
    ")\n",
    "    \n",
    "text_splitter = CharacterTextSplitter.from_tiktoken_encoder(chunk_size=1000, chunk_overlap=0)\n",
    "split_docs = text_splitter.split_documents(full_doc_sumary[0])\n",
    "print(map_reduce_chain.run(split_docs))\n",
    "result = chain({\"input_documents\": split_docs}, return_only_outputs=True)"
   ]
  },
  {
   "cell_type": "code",
   "execution_count": null,
   "id": "18f066cd",
   "metadata": {},
   "outputs": [],
   "source": []
  }
 ],
 "metadata": {
  "kernelspec": {
   "display_name": "search_agent_poc",
   "language": "python",
   "name": "search_agent_poc"
  },
  "language_info": {
   "codemirror_mode": {
    "name": "ipython",
    "version": 3
   },
   "file_extension": ".py",
   "mimetype": "text/x-python",
   "name": "python",
   "nbconvert_exporter": "python",
   "pygments_lexer": "ipython3",
   "version": "3.10.14"
  },
  "varInspector": {
   "cols": {
    "lenName": 16,
    "lenType": 16,
    "lenVar": 40
   },
   "kernels_config": {
    "python": {
     "delete_cmd_postfix": "",
     "delete_cmd_prefix": "del ",
     "library": "var_list.py",
     "varRefreshCmd": "print(var_dic_list())"
    },
    "r": {
     "delete_cmd_postfix": ") ",
     "delete_cmd_prefix": "rm(",
     "library": "var_list.r",
     "varRefreshCmd": "cat(var_dic_list()) "
    }
   },
   "types_to_exclude": [
    "module",
    "function",
    "builtin_function_or_method",
    "instance",
    "_Feature"
   ],
   "window_display": false
  }
 },
 "nbformat": 4,
 "nbformat_minor": 5
}
