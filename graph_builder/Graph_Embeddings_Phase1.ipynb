{
 "cells": [
  {
   "cell_type": "code",
   "execution_count": 1,
   "id": "bbfd3201",
   "metadata": {},
   "outputs": [],
   "source": [
    "from langchain_ollama import OllamaEmbeddings\n",
    "\n",
    "embeddings = OllamaEmbeddings(\n",
    "    model=\"mxbai-embed-large\",\n",
    ")"
   ]
  },
  {
   "cell_type": "code",
   "execution_count": 8,
   "id": "de5350c3",
   "metadata": {},
   "outputs": [],
   "source": [
    "import numpy as np\n",
    "import numpy as np\n",
    "import matplotlib.pyplot as plt\n",
    "import os\n",
    "import json\n",
    "import pickle\n",
    "import ollama\n",
    "from langchain_community.vectorstores import Chroma"
   ]
  },
  {
   "cell_type": "code",
   "execution_count": 9,
   "id": "5693b63f",
   "metadata": {},
   "outputs": [],
   "source": [
    "pdf_enrichment_output_dir = '../pdf_enrichment/pdf_enriched_output/'\n",
    "\n",
    "###The output of  \n",
    "pdf_enrichment_output_file = 'pdf_enriched_content_dict_phase5_extract_highligts_478_final.pickle'"
   ]
  },
  {
   "cell_type": "code",
   "execution_count": 10,
   "id": "94813fa8",
   "metadata": {},
   "outputs": [],
   "source": [
    "# Load data (deserialized data) into serilaizable list of of data#####\n",
    "###This acts as the source for the Graph Building ######\n",
    "import pickle\n",
    "with open(pdf_enrichment_output_dir+pdf_enrichment_output_file, 'rb') as handle:\n",
    "    document_dict_deserialized = pickle.load(handle)"
   ]
  },
  {
   "cell_type": "code",
   "execution_count": 11,
   "id": "1303038e",
   "metadata": {},
   "outputs": [
    {
     "data": {
      "text/plain": [
       "479"
      ]
     },
     "execution_count": 11,
     "metadata": {},
     "output_type": "execute_result"
    }
   ],
   "source": [
    "doc_len=len(document_dict_deserialized)\n",
    "doc_len"
   ]
  },
  {
   "cell_type": "code",
   "execution_count": 12,
   "id": "dc2be32a",
   "metadata": {},
   "outputs": [
    {
     "data": {
      "text/plain": [
       "{'page': 89,\n",
       " 'img_cnt': 0,\n",
       " 'img_npy_lst': [],\n",
       " 'text': '57\\nIntroducing pods\\n Therefore, you need to run each process in its own container. That’s how Docker\\nand Kubernetes are meant to be used. \\n3.1.2\\nUnderstanding pods\\nBecause you’re not supposed to group multiple processes into a single container, it’s\\nobvious you need another higher-level construct that will allow you to bind containers\\ntogether and manage them as a single unit. This is the reasoning behind pods. \\n A pod of containers allows you to run closely related processes together and pro-\\nvide them with (almost) the same environment as if they were all running in a single\\ncontainer, while keeping them somewhat isolated. This way, you get the best of both\\nworlds. You can take advantage of all the features containers provide, while at the\\nsame time giving the processes the illusion of running together. \\nUNDERSTANDING THE PARTIAL ISOLATION BETWEEN CONTAINERS OF THE SAME POD\\nIn the previous chapter, you learned that containers are completely isolated from\\neach other, but now you see that you want to isolate groups of containers instead of\\nindividual ones. You want containers inside each group to share certain resources,\\nalthough not all, so that they’re not fully isolated. Kubernetes achieves this by config-\\nuring Docker to have all containers of a pod share the same set of Linux namespaces\\ninstead of each container having its own set. \\n Because all containers of a pod run under the same Network and UTS namespaces\\n(we’re talking about Linux namespaces here), they all share the same hostname and\\nnetwork interfaces. Similarly, all containers of a pod run under the same IPC namespace\\nand can communicate through IPC. In the latest Kubernetes and Docker versions, they\\ncan also share the same PID namespace, but that feature isn’t enabled by default. \\nNOTE\\nWhen containers of the same pod use separate PID namespaces, you\\nonly see the container’s own processes when running ps aux in the container.\\nBut when it comes to the filesystem, things are a little different. Because most of the\\ncontainer’s filesystem comes from the container image, by default, the filesystem of\\neach container is fully isolated from other containers. However, it’s possible to have\\nthem share file directories using a Kubernetes concept called a Volume, which we’ll\\ntalk about in chapter 6.\\nUNDERSTANDING HOW CONTAINERS SHARE THE SAME IP AND PORT SPACE\\nOne thing to stress here is that because containers in a pod run in the same Network\\nnamespace, they share the same IP address and port space. This means processes run-\\nning in containers of the same pod need to take care not to bind to the same port\\nnumbers or they’ll run into port conflicts. But this only concerns containers in the\\nsame pod. Containers of different pods can never run into port conflicts, because\\neach pod has a separate port space. All the containers in a pod also have the same\\nloopback network interface, so a container can communicate with other containers in\\nthe same pod through localhost.\\n \\n',\n",
       " 'tables': [],\n",
       " 'entities': [{'entity': 'Docker',\n",
       "   'description': 'Containerization platform',\n",
       "   'category': 'software'},\n",
       "  {'entity': 'Kubernetes',\n",
       "   'description': 'Container orchestration system',\n",
       "   'category': 'software'},\n",
       "  {'entity': 'Pods',\n",
       "   'description': 'Group of containers that share resources and run as a single unit',\n",
       "   'category': 'application'},\n",
       "  {'entity': 'Containers',\n",
       "   'description': 'Isolated execution environment for processes',\n",
       "   'category': 'container'},\n",
       "  {'entity': 'Linux namespaces',\n",
       "   'description': 'Resource isolation mechanism in Linux',\n",
       "   'category': 'process'},\n",
       "  {'entity': 'Network namespace',\n",
       "   'description': 'Shared network resources among containers in a pod',\n",
       "   'category': 'network'},\n",
       "  {'entity': 'UTS namespace',\n",
       "   'description': 'Shared hostname and network interfaces among containers in a pod',\n",
       "   'category': 'network'},\n",
       "  {'entity': 'IPC namespace',\n",
       "   'description': 'Shared inter-process communication resources among containers in a pod',\n",
       "   'category': 'process'},\n",
       "  {'entity': 'PID namespace',\n",
       "   'description': 'Shared process ID space among containers in a pod',\n",
       "   'category': 'process'},\n",
       "  {'entity': 'Volume',\n",
       "   'description': 'Kubernetes concept for sharing file directories among containers',\n",
       "   'category': 'database'},\n",
       "  {'entity': 'IP address',\n",
       "   'description': 'Shared IP address among containers in a pod',\n",
       "   'category': 'network'},\n",
       "  {'entity': 'Port space',\n",
       "   'description': 'Shared port numbers among containers in a pod',\n",
       "   'category': 'network'}],\n",
       " 'relationships': [{'source_entity': '\"Network namespace\"',\n",
       "   'description': 'manages',\n",
       "   'destination_entity': '\"Linux namespaces\"'},\n",
       "  {'source_entity': '\"Network namespace\"',\n",
       "   'description': 'allocates',\n",
       "   'destination_entity': '\"Port space\"'},\n",
       "  {'source_entity': '\"UTS namespace\"',\n",
       "   'description': 'manages',\n",
       "   'destination_entity': '\"Linux namespaces\"'},\n",
       "  {'source_entity': '\"Kubernetes\"',\n",
       "   'description': 'orchestrates',\n",
       "   'destination_entity': '\"Pods\"'},\n",
       "  {'source_entity': '\"Docker\"',\n",
       "   'description': 'runs',\n",
       "   'destination_entity': '\"Containers\"'},\n",
       "  {'source_entity': '\"Kubernetes\"',\n",
       "   'description': 'manages',\n",
       "   'destination_entity': '\"Volume\"'},\n",
       "  {'source_entity': '\"PID namespace\"',\n",
       "   'description': 'manages',\n",
       "   'destination_entity': '\"Linux namespaces\"'},\n",
       "  {'source_entity': '\"IPC namespace\"',\n",
       "   'description': 'manages',\n",
       "   'destination_entity': '\"Linux namespaces\"'}],\n",
       " 'summary_rel': ['[\\n  {\\n    \"source\": \"Network namespace\",\\n    \"destination\": \"pod\",\\n    \"relation_description\": \"manages\",\\n    \"summary_er\": \"A network namespace manages a pod by providing isolation and resource management for its network stack.\"\\n  }\\n]',\n",
       "  '[\\n  {\\n    \"source\": \"Network namespace\",\\n    \"destination\": \"pod\",\\n    \"relation_description\": \"allocates\",\\n    \"summary_er\": \"The network namespace allocates resources to a pod, enabling communication and resource sharing between them.\"\\n  },\\n  {\\n    \"source\": \"Port space\",\\n    \"destination\": \"pod\",\\n    \"relation_description\": \"\",\\n    \"summary_er\": \"\"\\n  }\\n]',\n",
       "  '[\\n  {\\n    \"source\": \"UTS namespace\",\\n    \"destination\": \"pod\",\\n    \"relation_description\": \"manages\",\\n    \"summary_er\": \"The UTS namespace manages a Linux pod, providing isolation and resource control.\"\\n  }\\n]',\n",
       "  '[\\n  {\\n    \"source\": \"Kubernetes\",\\n    \"destination\": \"pod\",\\n    \"relation_description\": \"orchestrates\",\\n    \"summary_er\": \"Kubernetes manages and coordinates the execution of pods, ensuring efficient resource utilization and scalability.\"\\n  }\\n]',\n",
       "  '[\\n  {\\n    \"source\": \"Docker\",\\n    \"destination\": \"pod\",\\n    \"relation_description\": \"runs\",\\n    \"summary_er\": \"Docker runs containers, which are lightweight and portable packages of software that include everything needed to run an application.\"\\n  }\\n]',\n",
       "  '[\\n  {\\n    \"source\": \"Kubernetes\",\\n    \"destination\": \"pod\",\\n    \"relation_description\": \"manages\",\\n    \"summary_er\": \"Kubernetes manages pods, ensuring efficient resource allocation and scaling.\"\\n  },\\n  {\\n    \"source\": \"Kubernetes\",\\n    \"destination\": \"Volume\",\\n    \"relation_description\": \"uses\",\\n    \"summary_er\": \"Kubernetes utilizes volumes to persist data across pod restarts or deletion.\"\\n  }\\n]',\n",
       "  '[\\n  {\\n    \"source\": \"PID namespace\",\\n    \"destination\": \"pod\",\\n    \"relation_description\": \"manages\",\\n    \"summary_er\": \"The PID namespace in Linux manages a pod, controlling its process ID space and ensuring isolation between processes.\"\\n  }\\n]',\n",
       "  '[\\n  {\\n    \"source\": \"IPC namespace\",\\n    \"destination\": \"pod\",\\n    \"relation_description\": \"manages\",\\n    \"summary_er\": \"The IPC namespace manages a pod, controlling how processes within it interact with each other.\"\\n  },\\n  {\\n    \"source\": \"Linux namespaces\",\\n    \"destination\": \"pod\",\\n    \"relation_description\": \"manages\",\\n    \"summary_er\": \"A Linux namespace manages a pod, providing isolation and resource control for its contained processes.\"\\n  }\\n]'],\n",
       " 'summary': 'A pod of containers allows you to run closely related processes together, providing them with almost the same environment as a single container, while keeping them somewhat isolated. Containers within a pod share certain resources like network interfaces and IPC namespaces, but have fully isolated filesystems unless shared using a Kubernetes Volume concept.',\n",
       " 'highlights': [{'highlight': 'A pod of containers allows you to run closely related processes together and provide them with (almost) the same environment as if they were all running in a single container, while keeping them somewhat isolated.'},\n",
       "  {'highlight': 'Kubernetes achieves partial isolation between containers of the same pod by configuring Docker to have all containers share the same set of Linux namespaces instead of each container having its own set.'},\n",
       "  {'highlight': \"Containers in a pod run in the same Network namespace, sharing the same IP address and port space, which means processes running in containers of the same pod need to take care not to bind to the same port numbers or they'll run into port conflicts.\"},\n",
       "  {'highlight': 'Each pod has a separate port space from other pods, so containers of different pods can never run into port conflicts.'},\n",
       "  {'highlight': 'Containers in a pod share the same hostname and network interfaces, as well as the ability to communicate through IPC, but have fully isolated filesystems by default.'}]}"
      ]
     },
     "execution_count": 12,
     "metadata": {},
     "output_type": "execute_result"
    }
   ],
   "source": [
    "document_dict_deserialized[0]"
   ]
  },
  {
   "cell_type": "code",
   "execution_count": 13,
   "id": "cbf3cd2c",
   "metadata": {},
   "outputs": [
    {
     "name": "stderr",
     "output_type": "stream",
     "text": [
      "/home/matrix4284/mambaforge-pypy3/envs/search_agent_poc/lib/python3.10/site-packages/langchain_core/_api/deprecation.py:139: LangChainDeprecationWarning: The class `Chroma` was deprecated in LangChain 0.2.9 and will be removed in 0.4. An updated version of the class exists in the langchain-chroma package and should be used instead. To use it run `pip install -U langchain-chroma` and import as `from langchain_chroma import Chroma`.\n",
      "  warn_deprecated(\n"
     ]
    }
   ],
   "source": [
    "vectorstore = Chroma(\n",
    "    embedding_function=embeddings, persist_directory=\"./chroma_db_oai\"\n",
    ")\n",
    "\n",
    "\n",
    "def load_vectorstore_chroma(db, embeddings, docs, persist=False):\n",
    "    #db = Chroma(persist_directory=\"./chroma_db_oai\", embedding_function=embeddings)\n",
    "    ids = db.get()['ids']\n",
    "    #print(ids)\n",
    "    print(docs)\n",
    "\n",
    "    if len(ids)>0:\n",
    "        db.delete(\n",
    "            ids=ids\n",
    "        )\n",
    "    db = Chroma.from_documents(docs, embeddings, persist_directory=\"./chroma_db_oai\")\n",
    "    return db\n",
    "\n",
    "# load from disk\n",
    "def search_vectorstore_chroma(db,query):\n",
    "    #db = Chroma(persist_directory=\"./chroma_db_oai\", embedding_function=embeddings)\n",
    "    docs = db.similarity_search(query,k=20)\n",
    "    #retriever = db.as_retriever(k=20 , search_type=\"mmr\", lambda_mult=.6)\n",
    "    \n",
    "    #docs = retriever.get_relevant_documents(query)\n",
    "    return docs\n",
    "\n",
    "\n",
    "# load from disk\n",
    "def search_vectorstore_chroma_hybrid_retriever(db,embeddings,query):\n",
    "    #db = Chroma(persist_directory=\"./chroma_db_oai\", embedding_function=embeddings)\n",
    "\n",
    "    retriever_sim = db.as_retriever(\n",
    "    search_type=\"similarity\", search_kwargs={\"k\": 20}\n",
    "    )\n",
    "\n",
    "    retriever_mmr = db.as_retriever(\n",
    "    search_type=\"mmr\", search_kwargs={\"k\": 20}\n",
    "    )   \n",
    "\n",
    "    merger = MergerRetriever(retrievers=[retriever_sim, retriever_mmr])\n",
    "\n",
    "    filter = EmbeddingsRedundantFilter(embeddings=embeddings)\n",
    "\n",
    "    reordering = LongContextReorder()\n",
    "\n",
    "    pipeline = DocumentCompressorPipeline(transformers=[filter, reordering])\n",
    "\n",
    "    compression_retriever = ContextualCompressionRetriever(\n",
    "    base_compressor=pipeline, base_retriever=merger\n",
    "    )\n",
    "\n",
    "    docs=compression_retriever.get_relevant_documents(query)\n",
    "\n",
    "    return docs"
   ]
  },
  {
   "cell_type": "code",
   "execution_count": 11,
   "id": "bfbb2f11",
   "metadata": {},
   "outputs": [
    {
     "data": {
      "text/plain": [
       "[{'entity': 'Docker',\n",
       "  'description': 'Containerization platform',\n",
       "  'category': 'software'},\n",
       " {'entity': 'Kubernetes',\n",
       "  'description': 'Container orchestration system',\n",
       "  'category': 'software'},\n",
       " {'entity': 'Pods',\n",
       "  'description': 'Group of containers that share resources and run as a single unit',\n",
       "  'category': 'application'},\n",
       " {'entity': 'Containers',\n",
       "  'description': 'Isolated execution environment for processes',\n",
       "  'category': 'container'},\n",
       " {'entity': 'Linux namespaces',\n",
       "  'description': 'Resource isolation mechanism in Linux',\n",
       "  'category': 'process'},\n",
       " {'entity': 'Network namespace',\n",
       "  'description': 'Shared network resources among containers in a pod',\n",
       "  'category': 'network'},\n",
       " {'entity': 'UTS namespace',\n",
       "  'description': 'Shared hostname and network interfaces among containers in a pod',\n",
       "  'category': 'network'},\n",
       " {'entity': 'IPC namespace',\n",
       "  'description': 'Shared inter-process communication resources among containers in a pod',\n",
       "  'category': 'process'},\n",
       " {'entity': 'PID namespace',\n",
       "  'description': 'Shared process ID space among containers in a pod',\n",
       "  'category': 'process'},\n",
       " {'entity': 'Volume',\n",
       "  'description': 'Kubernetes concept for sharing file directories among containers',\n",
       "  'category': 'database'},\n",
       " {'entity': 'IP address',\n",
       "  'description': 'Shared IP address among containers in a pod',\n",
       "  'category': 'network'},\n",
       " {'entity': 'Port space',\n",
       "  'description': 'Shared port numbers among containers in a pod',\n",
       "  'category': 'network'}]"
      ]
     },
     "execution_count": 11,
     "metadata": {},
     "output_type": "execute_result"
    }
   ],
   "source": [
    "\n",
    "for idx in range(0,len(document_dict_deserialized)):\n",
    "    document_dict_deserialized[idx]['entities']"
   ]
  },
  {
   "cell_type": "code",
   "execution_count": null,
   "id": "d4160eba",
   "metadata": {},
   "outputs": [],
   "source": []
  },
  {
   "cell_type": "code",
   "execution_count": null,
   "id": "9f1dc45a",
   "metadata": {},
   "outputs": [],
   "source": [
    "def page_entity_description_embedder(page_idx):\n",
    "    \n",
    "    #print(\"Page Number\")\n",
    "    #print(page_idx)\n",
    "    \n",
    "    page_text=document_dict_deserialized[page_idx]['entities']\n",
    "    \n",
    "    \n",
    "    \n",
    "    \n",
    "    ########################################Summary Extraction Enrichment###########################################\n",
    "    \n",
    "    ##Summary Extraction Enrichment\n",
    "    #page_summary_txt=extract_summary_per_page(page_text)\n",
    "    \n",
    "    #print(\"Page Summary Text\")\n",
    "    #print(page_summary_txt)\n",
    "    \n",
    "    ######Add Summary as a part of pdf structured dictionary list in order summarization enrichment to data######### \n",
    "    #document_dict_deserialized_stage2[page_idx]['summary']=json.loads(page_summary_txt.strip())[\"summary\"]\n",
    "    \n",
    "    ################################################################################################################\n",
    "    \n",
    "    ######################################Highlight Extraction######################################################\n",
    "    \n",
    "    ##Summary Extraction Enrichment\n",
    "    return page_text\n",
    "    ################################################################################################################"
   ]
  }
 ],
 "metadata": {
  "kernelspec": {
   "display_name": "search_agent_poc",
   "language": "python",
   "name": "search_agent_poc"
  },
  "language_info": {
   "codemirror_mode": {
    "name": "ipython",
    "version": 3
   },
   "file_extension": ".py",
   "mimetype": "text/x-python",
   "name": "python",
   "nbconvert_exporter": "python",
   "pygments_lexer": "ipython3",
   "version": "3.10.14"
  },
  "varInspector": {
   "cols": {
    "lenName": 16,
    "lenType": 16,
    "lenVar": 40
   },
   "kernels_config": {
    "python": {
     "delete_cmd_postfix": "",
     "delete_cmd_prefix": "del ",
     "library": "var_list.py",
     "varRefreshCmd": "print(var_dic_list())"
    },
    "r": {
     "delete_cmd_postfix": ") ",
     "delete_cmd_prefix": "rm(",
     "library": "var_list.r",
     "varRefreshCmd": "cat(var_dic_list()) "
    }
   },
   "types_to_exclude": [
    "module",
    "function",
    "builtin_function_or_method",
    "instance",
    "_Feature"
   ],
   "window_display": false
  }
 },
 "nbformat": 4,
 "nbformat_minor": 5
}
