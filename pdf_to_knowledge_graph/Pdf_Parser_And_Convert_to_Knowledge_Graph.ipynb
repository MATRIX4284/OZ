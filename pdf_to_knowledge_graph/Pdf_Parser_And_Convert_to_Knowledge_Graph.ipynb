{
 "cells": [
  {
   "cell_type": "code",
   "execution_count": 1,
   "id": "47ab1c01",
   "metadata": {},
   "outputs": [],
   "source": [
    "##PDF SCRAPING LIBRARIES\n",
    "\n",
    "from langchain_community.document_loaders import PDFMinerLoader,PyPDFLoader,PDFMinerPDFasHTMLLoader\n",
    "import re\n",
    "from langchain_community.docstore.document import Document\n",
    "\n",
    "\n",
    "#PDF SCRAPING\n",
    "\n",
    "##PyPDFLoader###\n",
    "def scrape_pdf_PyPDF(url):\n",
    "    \n",
    "\n",
    "    loader = PyPDFLoader(url,extract_images=True)\n",
    "    pages = loader.load_and_split()\n",
    "\n",
    "    return pages\n",
    "\n",
    "\n",
    "\n",
    "\n",
    "##PDFMinerLoader###\n",
    "def scrape_pdf_PDFMiner(url):\n",
    "    \n",
    "\n",
    "    loader = PDFMinerPDFasHTMLLoader(url)\n",
    "    data = loader.load()[0]\n",
    "    \n",
    "    from bs4 import BeautifulSoup\n",
    "    soup = BeautifulSoup(data.page_content,'html.parser')\n",
    "    content = soup.find_all('div')\n",
    "    \n",
    "    \n",
    "    cur_fs = None\n",
    "    cur_text = ''\n",
    "    snippets = []   # first collect all snippets that have the same font size\n",
    "    for c in content:\n",
    "        sp = c.find('span')\n",
    "        if not sp:\n",
    "            continue\n",
    "        st = sp.get('style')\n",
    "        if not st:\n",
    "            continue\n",
    "        fs = re.findall('font-size:(\\d+)px',st)\n",
    "        if not fs:\n",
    "            continue\n",
    "        fs = int(fs[0])\n",
    "        if not cur_fs:\n",
    "            cur_fs = fs\n",
    "        if fs == cur_fs:\n",
    "            cur_text += c.text\n",
    "        else:\n",
    "            snippets.append((cur_text,cur_fs))\n",
    "            cur_fs = fs\n",
    "            cur_text = c.text\n",
    "    #snippets.append((cur_text,cur_fs))\n",
    "\n",
    "\n",
    "\n",
    "    print(snippets)\n",
    "\n",
    "\n",
    "    cur_idx = -1\n",
    "    semantic_snippets = []\n",
    "    # Assumption: headings have higher font size than their respective content\n",
    "    for s in snippets:\n",
    "        # if current snippet's font size > previous section's heading => it is a new heading\n",
    "        if not semantic_snippets or s[1] > semantic_snippets[cur_idx].metadata['heading_font']:\n",
    "            metadata={'heading':s[0], 'content_font': 0, 'heading_font': s[1]}\n",
    "            metadata.update(data.metadata)\n",
    "            semantic_snippets.append(Document(page_content='',metadata=metadata))\n",
    "            cur_idx += 1\n",
    "            continue\n",
    "\n",
    "        # if current snippet's font size <= previous section's content => content belongs to the same section (one can also create\n",
    "        # a tree like structure for sub sections if needed but that may require some more thinking and may be data specific)\n",
    "        if not semantic_snippets[cur_idx].metadata['content_font'] or s[1] <= semantic_snippets[cur_idx].metadata['content_font']:\n",
    "            semantic_snippets[cur_idx].page_content += s[0]\n",
    "            semantic_snippets[cur_idx].metadata['content_font'] = max(s[1], semantic_snippets[cur_idx].metadata['content_font'])\n",
    "            continue\n",
    "\n",
    "        # if current snippet's font size > previous section's content but less than previous section's heading than also make a new\n",
    "        # section (e.g. title of a PDF will have the highest font size but we don't want it to subsume all sections)\n",
    "        metadata={'heading':s[0], 'content_font': 0, 'heading_font': s[1]}\n",
    "        metadata.update(data.metadata)\n",
    "        semantic_snippets.append(Document(page_content='',metadata=metadata))\n",
    "        cur_idx += 1\n",
    "\n",
    "\n",
    "    return semantic_snippets\n"
   ]
  },
  {
   "cell_type": "code",
   "execution_count": 2,
   "id": "640a7dc1",
   "metadata": {},
   "outputs": [],
   "source": [
    "#url='./PDF_FOLDER/adaptive_pooling.pdf'\n",
    "url=\"./PDF_SOURCE/shannon_51.pdf\""
   ]
  },
  {
   "cell_type": "code",
   "execution_count": 3,
   "id": "d1356e3e",
   "metadata": {},
   "outputs": [],
   "source": [
    "results1=scrape_pdf_PyPDF(url)"
   ]
  },
  {
   "cell_type": "code",
   "execution_count": 4,
   "id": "4f9911da",
   "metadata": {},
   "outputs": [
    {
     "data": {
      "text/plain": [
       "Document(metadata={'source': './PDF_SOURCE/shannon_51.pdf', 'page': 5}, page_content='2\\n1\\n2\\n16\\n58\\n19\\n5\\n1\\n4\\n3\\n2\\n1\\n1\\n1\\n1\\n1\\n1\\n1\\n1\\n7\\n48\\n17\\n3\\n4\\n3\\n2\\n8\\n2\\n4\\n3\\n1\\n1\\n1\\n1\\n1\\n18\\n66\\n15\\n5\\n4\\n6\\n1\\n1\\n1\\n1\\n»\\n66\\n13\\n9\\n4\\n1\\n1\\n1\\n2\\n1\\n1\\n110\\n67\\n10\\n4\\n4\\n6\\n1\\n1\\n1\\n1\\n3\\n1\\n1\\nu\\n62\\n9\\n7\\n5\\n5\\n4\\n1\\n1\\n1\\n2\\n1\\n1\\n112\\n58\\n14\\n7\\n6\\n2\\n2\\n4\\n2\\n1\\n1\\n1\\n1\\n113\\n66\\n9\\n4\\n4\\n3\\n3\\n1\\n2\\n2\\n1\\n1\\n1\\n1\\n214\\n72\\n6\\n9\\n3\\n4\\n1\\n1\\n2\\n215\\n60\\n18\\n5\\n5\\n1\\n4\\n3\\n1\\n1\\n1\\n1100\\n80\\n7\\n3\\n4\\n2\\n1\\n1\\n1\\n1\\nthe entry 19 in column 6, row 2, means that with five letters known thi cor\\nrect letter was obtained on the second guess nineteen times out of the hun\\ndred. The first two columns of this table were not obtained by the experi-\\nmental procedure outlined above but were calculated directly from the\\nknown letter and digram frequencies. Thus with no known letters the most\\nprobable symbol is the space (probability .182); the next guess, if this is\\nwrong, should be E (probability .107), etc. These probabilities are the\\nfrequencies with which the right guess would occur at the first, second, etc.,\\ntrials with best prediction. Similarly, a simple calculation from the digram\\ntable gives the entries in column 1 when the subject uses the table to besttables\\nquenc\\nwere..\\nge...\\nuns\\nle...BELItheN\\n0152)861311111111111621111112111111RAMATICALLY0ougra\\namheral\\nphabetwa.guessa\\nbletrigranMalone.marizedSthths')"
      ]
     },
     "execution_count": 4,
     "metadata": {},
     "output_type": "execute_result"
    }
   ],
   "source": [
    "results1[7]"
   ]
  },
  {
   "cell_type": "code",
   "execution_count": 5,
   "id": "262a10fe",
   "metadata": {},
   "outputs": [
    {
     "name": "stdout",
     "output_type": "stream",
     "text": [
      "[('Prediction and Entropy of Printed English\\n', 11), ('By  C.  E.  SHANNON\\n(Manuscript  Received  Sept.  75,\\nA  new  method  of  estimating  the  entropy  and  redundancy  of  a  language  is\\ndescribed.  This  method  exploits  the  knowledge  of  the  language  statistics  pos-\\nsessed  by  those who  speak  the  language,  and  depends  on  experimental  results\\nin  prediction  of  the  next  letter  when  the  preceding  text  is  known.  Results  of\\nexperiments in prediction are given, and some properties of an ideal  predictor are\\ndeveloped.\\n', 8), ('1.  INTRODUCTION\\n', 10), ('IN  A  previous  paper1  the  entropy  and  redundancy  of  a  language  have\\n', 26), ('been  defined.  The  entropy  is  a  statistical  parameter  which  measures,\\nin  a  certain  sense,  how  much  information  is  produced  on  the  average  for\\neach letter of a text in the language. If the language is translated into binary\\ndigits (0 or 1) in the most efficient way, the entropy // is the average number\\nof binary digits required per letter of the original language.  The redundancy,\\non the other hand, measures the amount of constraint imposed on a text in\\nthe  language  due  to  its  statistical  structure,  e.g.,  in  English  the  high  fre-\\nquency of  the  letter £,  the strong  tendency of H to  follow  T or of  V  to  follow\\nQ.  It  was  estimated  that  when  statistical  effects  extending  over  not  more\\nthan  eight  letters  are  considered  the  entropy  is  roughly  2.3  bits  per  letter,\\nthe  redundancy  about  50 per  cent.\\nSince  then  a  new  method  has  been  found  for  estimating  these  quantities,\\nwhich is more sensitive and takes account of long range statistics, influences\\nextending  over phrases,  sentences,  etc.  This  method  is  based  on  a  study  of\\nthe predictability of English;  how well can the next letter of a  text be pre-\\ndicted when the preceding N letters are known. The results  of some experi-\\nments  in  prediction  will  be  given,  and  a  theoretical  analysis  of  some  of  the\\nproperties of ideal prediction.  By combining the experimental and  theoreti-\\ncal results it is possible  to estimate upper and  lower bounds for the entropy\\nand  redundancy.  From  this  analysis  it  appears  that,  in  ordinary  literary\\nEnglish,  the  long  range  statistical  effects  (up  to  100  letters)  reduce  the\\nentropy  to  something  of  the  order of  one  bit per  letter,  with  a  corresponding\\nredundancy  of  roughly  75%.  The  redundancy  may  be  still  higher  when\\nstructure extending over paragraphs, chapters, etc.  is included. However,  as\\nthe lengths  involved  are increased,  the parameters  in  question become more\\n', 10), ('1 C. E.  Shannon,  \"A Mathematical Theory of Communication,\" Bell System  Technical\\n', 5), ('Journal,  v.  27,  pp.  379-423,  623-656, July,  October,  1948.\\n50\\n', 8), ('PREDICTION  A ND  ENTROPY  OF  PRINTED  ENGLISH \\n51\\n', 7), ('tic  and  uncertain,  and  they  depend  more  critically  on  the  type  of  text\\ninvolved.\\n2.  ENTROPY  CALCULATION  FROM  TIIK  STATISTICS  OF  ENGLISH\\nOne method of calculating  the entropy // is by a  series of approximations\\n7?  Fi ,  F-2 >  \\' \\' \\' \\'  which  successively  take more  and more  of  the  statistics\\nf  the  language  into  account  and  approach  77  as  a  limit.  Fx  may  be  called\\nthe Y-grani entropy; it measures the amount of information or entropy due\\nto statistics extending over A\" adjacent letters of text. F.v is given by1\\n', 9), ('FN  =\\n-Tfp(bi,j) \\nV)\\n\\\\0gzpbi(j)\\n', 8), (',  ,\\n', 4), ('=  ~Z  p(bi,j)  lo&pQi.j)  +  Z p(^  log  #(6V)\\n', 11), ('i.j\\n', 1), ('1:\\n', 2), (\"in which: bi is a block of  _Y-1  letters  [(Ar-l)-gram]\\nj  is  an  arbitrary  letter  following  hi\\np(bi  ,  j)  is  the  probability  of  the  JV-gram  6» , j\\npbi(j)  is  the  conditional  probability  of  letter j  after  the  block  b,,\\nand  is  given  by  p(b{  ,  j)/p(bf).\\nThe equation  (1)  can be interpreted as measuring the average uncertainty\\n(conditional entropy)  of the next letter /' when the preceding  _V-1  letters are\\nknown.  As  .V  is  increased,  /'V  includes  longer  and  longer  range  statistics\\nand  the  entropy,  77,  is  given  by  the  limiting  value  of  FN  as  N  —  -> ^  :\\n\", 9), ('H  =  Lim  TV . \\n', 10), ('JV-»oo\\n', 5), ('(2)\\nThe  T-gram  entropies  F.\\\\  for  small  values  of  N  can  be  calculated  from\\nstandard  tables  of  letter,  digram  and  trigram  frequencies.2  If  spaces  and\\npunctuation  are  ignored  we  have  a  twenty-six  letter  alphabet  and  Ff,  may\\nbe taken  (by definition)  to  be  log-2 26,  or 4.7 bits  per letter.  7<\\\\ involves letter\\nfrequencies  and  is  given  by\\n', 9), ('26\\n', 5), ('Fi  =  — X)  p(i)  Iog2  p(i)  =  4.14  bits  per  letter. \\nt— i\\nThe  digram  approximation  7^  gives  the  result\\n(3)\\n', 9), ('(4)\\n', 8), ('=  7.70  -  4.14  =  3.56 bits per letter.\\n', 9), ('2 Fletcher  Pratt,  \"Secret  and  Urgent,\"  Blue  Ribbon  Books,  1942.\\n', 5), ('52 \\nTIIK  BELL  SYSTEM  TECHNICAL  JOURNAL,  JANUARY  1951\\n', 8), ('The  trigram  entropy  is  given  by\\nF-i  =  -  Z  p(i,j,k)  log,  p,-j(k)\\nX p(i, j, k)  log, p(i, j,  k)\\n(*, j)  log, p(i, j)\\n(5)\\n= 11.0 - 7,7 = 3.3\\nIn  this  calculation  the  trigram  table2  used  did  not  take  into  account  tri-\\ngrams bridging two words, such as WOW and OWO in TWO WORDS. To\\ncompensate  partially  for  this  omission,  corrected  trigram  probabilities  p(it\\nj, k) were obtained from the probabilities p\\'(i,j, k) of the table by the follow-\\ning  rough  formula:\\n, J,\\n= ~ p\\'(i,j, k) + ~  r(f)p(j, k)\\nwhere r(i)  is  the probability  of letter i as the terminal letter of  a word and\\ns(k)  is  the  probability  of  k  as  an  initial  letter.  Thus  the  trigrams  within\\nwords (an average of 2.5 per word) are counted according to the table; the\\nbridging  trigrams  (one  of  each  type  per  word)  are  counted  approximately\\nby assuming independence of the terminal letter of one word and the initial\\ndigram in the next or vice versa. Because of the approximations involved\\nhere,  and  also  because  of  the  fact  that  the  sampling  error  in  identifying\\nprobability with  sample frequency is more serious,  the value  of  F;i  is  less\\nreliable than the previous numbers.\\nSince tables of .Y-gram frequencies were not available for ,Y  >  3,  F^ ,  Fj ,\\netc.  could not be calculated  in  the  same way. However,  word  frequencies\\nhave been  tabulated3  and can  be used  to obtain  a  further  approximation.\\nFigure  1  is  a  plot  on  log-log  paper  of  the  probabilities  of  words  against\\nfrequency  rank. The most  frequent  English  word  \"the\"  has  a probability\\n.071  and this is plotted against 1. The next most frequent word \"of\" has a\\nprobability  of  .034  and  is  plotted  against  2,  etc.  Using  logarithmic  scales\\nboth  for  probability  and  rank,  the  curve  is  approximately  a  straight  line\\nwith slope — 1 ; thus, if pn is the probability of the rath most frequent word,\\nwe have, roughly\\nZipf4 has pointed out that this type of formula, pn  =  k/n, gives a rather good\\napproximation  to  the  word probabilities  in  many  different  languages.  The\\n3 G.  De\\\\vcy,  \"Relative  Frequency  of  English  Speech  Sounds,\"  Harvard  University\\n', 9), ('1 G.  K.  Zipf,  \"Human  Behavior  and  the  Principle  of  Least  Effort,\"  Acldison-Wesley\\n', 5), ('Press,  1923.\\nPress,  1949.\\n', 8), ('PREDICTION  AND  KNTROPY  OF  PRINTED  ENGLISH\\n', 7), ('53\\nuja  (6)  clearly  cannot  hold  indefinitely  since  the  total  probability  ~2pn\\n', 6), ('t ke unity,  while 2^ .!/«  is  infinite.  If we assume  (in  the absence of any\\nh  tier estimate)  that  the formula  pn  =  .\\\\/n  holds out  to  the  n  at  which  the\\n', 9), ('0.1\\n', 5), ('0.01\\n0.001\\n', 6), ('0.0001\\n', 5), ('0.00001\\n-SAY\\nX\\n', 8), ('REALLY\\nX-QUALITY\\n2 \\n4  6  8 10 \\n20 \\n40  60  10O  200  400 \\n1OOO  2000  4000  10,000\\n', 5), ('Fig.  1—Relative  frequency against  rank  for  English  words.\\n', 8), ('WORD  ORDER\\n', 5), ('total  probability  is  unity,  and  that  pn  —  0  for  larger  n,  we  find  that  the\\ncritical  n  is  the word  of rank  8,727.  The entropy  is  then:\\n', 9), ('8727\\n', 5), (\"— /!  pn  Iog2  pn  =  11.82  bits  per  word, \\ni\\n(7)\\nor 11,82/4.5  =  2.62  bits per letter since  the average word  length  in  English\\nis 4.5  letters.  One  might  be  tempted  to  identify  this  value  with  F4.B,  but\\nactually  the  ordinate  of  the  /*'>•  curve  at  N  =  4.5  will  be  above  this  value.\\nThe reason  is  that F4 or  F;,  involves  groups of four or five letters regardless\\nof word division.  A  word  is  a  cohesive  group  of letters  with  strong  internal\\n\", 9), ('54 \\nTHE  BELL  SYSTEM  TECHNICAL  JOURNAL,  JANUARY  1951\\nPREDICTION  AND  ENTROPY  OF  PRINTED  ENGLISH\\n', 7), ('55\\n', 6), ('statistical  influences,  and  consequently  the  ]V-grams  within  words  are \\nrestricted  than  those which bridge  words.  The  effect  of  this  is  that we  hav(\\nobtained,  in  2.62  bits per  letter,  an  estimate  which  corresponds  more  nearly\\nto,  say,  F!,  or  F$.\\nA  similar  set  of  calculations  was  carried  out  including  the  space  as  aj\\nadditional  letter,  giving  a  27  letter  alphabet.  The  results  of  both  26-  anj\\n27-letter  calculations  are  summarized  below:\\n.\\n', 9), ('26 letter\\n27 letter\\n', 8), ('Fa\\n4.70\\n4.76\\n', 5), ('Pi\\n4.14\\n4.03\\n', 8), ('3.56\\n3.32\\n', 9), ('F,\\n3.3\\n3.1\\nfword\\n2 . 62\\n2.14\\n', 6), ('The estimate of 2.3 for 7;\\ns, alluded to above, was found by several methods\\none  of  which  is  the  extrapolation  of  the  26-letter  series  above  out  to  that\\npoint.  Since  the  space  symbol  is  almost  completely  redundant  when  se-\\nquences  of  one  or more  words are  involved,  the values  of  FN  in  the  27-letter\\ncase will be —- or .818 of FN for the 26-letter alphabet when  TV is reasonably\\n4.5\\n', 9), ('O .O\\n', 5), (\"large.\\n3.  PREDICTION  OF  ENGLISH\\nThe  new  method  of  estimating  entropy  exploits  the  fact  that  anyone\\nspeaking  a  language  possesses,  implicitly,  an  enormous  knowledge  of  the\\nstatistics  of  the  language.  Familiarity  with  the  words,  idioms,  cliches and\\ngrammar enables him to fill in missing or incorrect letters in proof-reading,\\nor to complete an unfinished phrase in conversation. An experimental  demon-\\nstration of  the extent to which  English  is predictable can be given as  follows;\\nSelect a  short passage unfamiliar  to  the person who  is  to do  the  predicting,\\nHe is then asked  to guess the first letter in the passage.  If the guess is  correct\\nhe  is  so  informed,  and  proceeds  to  guess  the  second  letter.  If  not,  he  is  tolc\\nthe  correct  first  letter  and  proceeds  to  his  next  guess.  This  is  continuec\\nthrough  the text.  As the experiment progresses,  the subject writes down th\\ncorrect  text up  to  the current point for use in predicting future letters.  Th\\nresult  of  a  typical  experiment  of  this  type  is  given  below.  Spaces  were in-\\ncluded  as  an  additional letter,  making  a  27  letter  alphabet.  The  first  line  i-\\nthe  original  text;  the  second  line  contains  a  dash  for  each  letter  correctly\\nguessed.  In  the  case  of  incorrect  guesses  the  correct  letter  is  copied  in th\\nsecond  line.\\nROD \\n(1) THE ROOM WAS NOT VERY LIGHT A SMALL OBLONG \\nNOT-? \\n(2) \\n(1) READING LAMP ON THE DESK SHED GLOW ON\\n(2) REA \\nSHED-GLO--0--\\nD \\n(1) POLISHED WOOD BUT LESS ON THE SHABBY RED CARPET\\n(2) P-L-S \\n0---BU--L-S-0 \\nRE-C\\nSH \\nSM \\nOBL\\n0 \\n1 \\n..,\\ntotal of  129  letters,  89  or  69%  were  guessed  correctly.  The  errors,  as\\n.,  , e  expected,  occur  most  frequently  at  the  beginning  of  words  and\\nW<il  hies where the line of thought has more possibility of branching out.  It\\nS^'  ht be thought that the second  line in  (8),  which we will call the reduced\\ncontains much less information than the first. Actually,  both  lines con-\\n.'  ..  game  information  in  the  sense  that  it  is  possible,  at  least  in  prin-\\nto recover the first line from  the second.  To accomplish  this we need\\n•  1 \\nidentical  twin  of  the  individual  who  produced  the  sequence.  The  twin\\n,  kO must be mathematically, not just biologically identical)  will respond in\\n,  same way  when  faced  with  the  same  problem.  Suppose,  no\\\\v,  we  have\\ni \\nthe reduced  text of  (8).  We  ask  the  twin  to  guess  the  passage.  At  each\\noint we will know whether his guess is correct, since he is guessing the same\\nthe first twin and  the presence  of a  dash  in  the  reduced  text  corresponds\\nto a correct guess. The letters he guesses wrong are also available,  so that at\\neach  stage  he  can  be  supplied  with  precisely  the  same  information  the  first\\ntwin  had  available.\\n\", 9), ('U^!XT\\n', 4), ('~~\\n14-\\n', 5), ('COMPARISON\\nCOMPARISON\\n', 6), ('~  *\\nPREDICTOR 4\\n', 15), ('REDUCED  TEXT\\n', 6), ('*•\\n', 5), ('— *•\\n', 10), ('PREDICTOR\\n', 6), ('^L\\n', 20), ('Fig.  2—Communication  system  using  reduced  text.\\n', 8), ('TEXT\\n1  ~*4\\n', 6), ('The  need  for  an  identical  twin  in  this  conceptual  experiment  can  be\\neliminated  as  follows.  In  general,  good  prediction  does  not  require  knowl-\\nedge of more  than N preceding letters of text, with N fairly small. There are\\nonly a  finite  number  of  possible  sequences  of  N  letters.  We  could  ask  the\\nsubject to guess the next letter for each of these possible .V-grams. The com-\\nplete  list  of  these  predictions  could  then  be  used  both  for  obtaining  the\\nreduced text from the original and for the inverse reconstruction process.\\nTo  put  this  another  way,  the  reduced  text  can  be  considered  to  be  an\\nencoded form of the original, the result of passing the original  text through\\na  reversible  transducer.  In  fact,  a  communication  system  could  be  con-\\nstructed  in  which  only  the  reduced  text  is  transmitted  from  one  point  to\\nthe other.  This  could  be  set  up  as  shown  in  Fig.  2,  with  two  identical  pre-\\ndiction devices.\\nAn  extension  of  the  above  experiment  yields  further  information  con-\\ncerning the predictability of English. As before,  the subject knows the  text\\nup to the current point and  is asked  to guess  the  next letter.  If he  is wrong,\\nhe is  told  so  and  asked  to  guess  again.  This  is  continued  until  he  finds  the\\ncorrect  letter.  A  typical  result  with  this  experiment  is  shown  below.  The\\n', 9), ('56\\nTHE  BELT.  SYSTEM  TECHNICAL  JOURNAL,  JANUARY  1951\\nPREDICTION  AND  ENTROPY  OF  PRINTED  ENGLISH\\n', 7), ('57\\n', 9), ('first  line  is  the  original text and  the numbers in  the second line  indicate  thcr\\nguess at which  the correct letter was obtained.\\n', 10), ('R\\n', 4), ('(1)  T H E RE \\n(2) 1 1 1 5 1 1 2 1 1 2 11 151 17 1 1 1 2 1 3 2 1 2 2 7 1 1 1 1 4 1 11\\nA  M O T O R C YC\\nR E V E R SE \\nIS \\nNO \\nON \\nLE \\nA\\n1 l 3j\\n(1)  F R I E ND  OF  M I NE \\n( 2 ) 8 6 1 3 1 1 1 1 1 1 1 1 1 1 1 6 2 1 1 1 1 1 1 2 1 1 1 1 11\\nT H IS  O UT\\nF O U ND \\n(1)  R A T H ER \\n(2) 4 1 1 1 1 11 11 5 1 1 1 1 1 1 1 1 1 1 1 6 1 1 1 1 1 1 1 1 1 1 1 11 \\nD R A M A T I C A L LY \\nO T H ER\\nT HE \\n', 7), ('D AY\\n', 8), ('(9)\\n', 9), ('Out of  102  symbols the  subject guessed right on  the first guess  79  times\\non the second guess 8 times, on the third guess 3 times, the fourth and fifth\\nguesses 2 each and only eight times required more than five guesses. Results\\nof this order are typical of prediction by a good subject with ordinary literary\\nEnglish.  Newspaper  writing,  scientific  work  and  poetry  generally  lead to\\nsomewhat  poorer  scores.\\nThe  reduced  text  in  this  case  also  contains  the  same  information  as the\\noriginal. Again utilizing the identical twin we ask him at each stage to  guess\\nas many  times  as  the  number  given  in  the  reduced  text  and  recover  in  this\\nway  the  original.  To  eliminate  the  human  element  here  we  must  ask  out\\nsubject,  for  each  possible  .V-gram  of  text,  to  guess  the  most  probable  next\\nletter,  the  second  most probable  next  letter, etc.  This  set  of  data  can  then\\nserve  both  for  prediction  and  recovery.\\nJust as before,  the reduced text can be considered an encoded version of\\nthe  original.  The  original  language,  with  an  alphabet  of  27  symbols,  A,\\nB,  • • •  , Z, space, has been translated into a new language with the alphabet\\n1,  2,  • • •  ,  27. The translating has been such that the symbol 1  now has an\\nextremely  high  frequency.  The  symbols  2,  3,  4  have  successively  smaller\\nfrequencies and the final symbols 20, 21, • • • , 27 occur very rarely. Thus the\\ntranslating has simplified to a considerable extent the nature of the statisti-\\ncal structure involved. The redundancy which  originally appeared in com-\\nplicated constraints among groups of letters, has, by the translating process,\\nbeen made explicit to a large extent in the very unequal probabilities of the\\nnew  symbols. It is this,  as will appear later, which  enables one to estimate\\nthe entropy from these experiments.\\nIn  order  to  determine  how  predictability  depends  on  the  number  .V oi\\npreceding  letters  known  to  the  subject,  a  more  involved  experiment  was\\ncarried out.  One  hundred  samples  of  English  text  were  selected  at  random\\nfrom a book,  each fifteen letters  in length.  The subject was required to  gues<\\nthe  text,  letter  by  letter,  for  each  sample  as  in  the  preceding  experiment.\\nThus one hundred samples were obtained in which the subject had available\\n0,  1,  2,  3,  •  •  •  ,  14  preceding  letters.  To  aid  in  prediction  the  subject  made\\nsuch use as he wished of various statistical tables,  letter,  digram and  trigrair.\\na table of  the frequencies  of  initial  letters  in  words,  a  list  of  the  fre-\\njes of common words and a dictionary. The samples in  this experiment\\nfrom  \"Jefferson  the  Virginian\"  by  Dumas  Maloiie.  These  results,  to-\\nrt,  r with a similar test in which  100 letters were known to the subject, are\\nmarized  in Table  I. The  column  corresponds  to  the  number  of preceding\\ntters known  to  the  subject plus  one;  the  row  is  the  number  of  the  guess.\\nThe entry in column N at row 5 is the number of times the subject guessed\\nthe right letter at the Si\\\\\\\\ guess when (N-\\\\)  letters were known.  For example,\\n', 10), ('TABLE  I\\n', 9), ('3\\n36\\n20\\n12\\n7\\n1\\n4\\n3\\n2\\n4\\n2\\n2\\n4\\n1\\n1\\n1\\n', 8), ('4\\n5\\n', 5), ('51\\n13\\n8\\n4\\n3\\n2\\n2\\n1\\n5\\n3\\n2\\n2\\n1\\n2\\n1\\n47\\n18\\n14\\n3\\n1\\n5\\n3\\n2\\n1\\n2\\n1\\n1\\n1\\n1\\n', 8), ('6\\n', 5), ('58\\n19\\n5\\n1\\n4\\n3\\n2\\n1\\n1\\n1\\n1\\n1\\n1\\n1\\n1\\n7\\n48\\n17\\n3\\n4\\n3\\n2\\n8\\n2\\n4\\n3\\n1\\n1\\n1\\n1\\n1\\n1\\n', 8), ('8\\n', 5), ('66\\n15\\n5\\n4\\n6\\n1\\n1\\n1\\n1\\n', 8), ('10\\n', 5), ('67\\n10\\n4\\n4\\n6\\n1\\n1\\n1\\n1\\n3\\n1\\n1\\n', 8), ('»\\n', 5), ('66\\n13\\n9\\n4\\n1\\n1\\n1\\n2\\n1\\n1\\n1\\n', 8), ('u\\n', 9), ('62\\n9\\n7\\n5\\n5\\n4\\n1\\n1\\n1\\n2\\n1\\n1\\n1\\n', 8), ('12\\n13\\n14\\n15\\n100\\n', 5), ('58\\n14\\n7\\n6\\n2\\n2\\n4\\n2\\n1\\n1\\n1\\n1\\n1\\n66\\n9\\n4\\n4\\n3\\n3\\n1\\n2\\n2\\n1\\n1\\n1\\n1\\n2\\n72\\n6\\n9\\n3\\n4\\n1\\n1\\n2\\n2\\n80\\n7\\n3\\n4\\n2\\n1\\n1\\n1\\n1\\n60\\n18\\n5\\n5\\n1\\n4\\n3\\n1\\n1\\n1\\n1\\n', 8), ('2\\n', 5), ('29.2\\n14.8\\n10.0\\n8.6\\n7.1\\n5.5\\n4.5\\n3.6\\n3.0\\n2.6\\n2 .2\\n1.9\\n1.5\\n1.2\\n1.0\\n.9\\n.7\\n.5\\n.4\\n.3\\n.2\\n.1\\n.1\\n.0\\n', 9), ('i\\n', 8), (\"18.2\\n10.7\\n'  8.6\\n6.7\\n6.5\\n5.8\\n5.6\\n5.2\\n5.0\\n4.3\\n3.1\\n2.8\\n2.4\\n2.3\\n2.1\\n2.0\\n1.6\\n1.6\\n1.6\\n1.3\\n1.2\\n.8\\n.3\\n.1\\n.1\\n.1\\n.1\\n\", 9), ('J\\n2\\n3\\n4\\n5\\n6\\n7\\n8\\n9\\n10\\n11\\n12\\n13\\n14\\n15\\n16\\n17\\n18\\n19\\n20\\n21\\n22\\n23\\n24\\n25\\n26\\n27\\n', 8), ('the entry  19 in column 6, row 2, means that with five letters known thi cor\\nrect letter was obtained on  the  second guess nineteen  times out of  the hun\\ndred.  The  first  two  columns  of  this  table  were  not  obtained  by  the  experi-\\nmental  procedure  outlined  above  but  were  calculated  directly  from  the\\nknown letter and digram  frequencies.  Thus with no known letters  the most\\nprobable  symbol  is  the  space  (probability  .182);  the  next  guess,  if  this  is\\nwrong,  should  be  E  (probability  .107),  etc.  These  probabilities  are  the\\nfrequencies with which the right guess would occur at the first, second,  etc.,\\ntrials  with  best prediction.  Similarly,  a  simple  calculation  from  the  digram\\ntable gives  the  entries  in  column  1  when  the  subject  uses  the  table  to  best\\n', 10), ('58 \\nTHE  BELL  SYSTEM  TECHNICAL  JOURNAL,  JANUARY  1951\\n', 7), ('V\\n', 5), ('advantage. Since the frequency tables are determined from long samples 0(\\nEnglish, these two columns are subject to less sampling error than the others\\nIt will be seen that the prediction gradually improves, apart from son,\\nstatistical fluctuation, with  increasing  knowledge  of  the past  as  indicate^\\nby  the  larger  numbers  of  correct  first  guesses  and  the  smaller  numbers  oj\\nhigh  rank  guesses.\\nOne  experiment  was  carried  out  with  \"reverse\"  prediction,  in which  th(\\nsubject  guessed  the  letter  preceding  those  already  known.  Although  the\\ntask is subjectively much more difficult, the scores were only slightly poorer\\nThus,  with  two  101  letter  samples  from  the  same  source,  the  subject  ob.\\ntained the following results:\\n', 9), ('No.  of  guess \\nForward \\nReverse \\n.................. \\n................... \\n1 \\n70 \\n66 \\n2 \\n10 \\n7 \\n3 \\n7 \\n4 \\n4 \\n2 \\n4 \\n5 \\n2 \\n6 \\n6 \\n3 \\n2 \\n7 \\n3 \\n1 \\n8 \\n0 \\n2 \\n>8\\n4\\n9\\n', 7), (\"Incidentally,  the  .V-grarn  entropy  FN  for  a  reversed language is equal  te\\nthat for the forward language as may  be  seen from  the second form  in  equa.\\ntion  (1). Both terms have  the same value in the  forward and reversed  cases,\\n4.  IDEAL  .V-GRAM  PREDICTION\\nThe data of Table I can be used to obtain upper and lower bounds to th\\nAT-gram  entropies  FN  •  In  order  to  do  this,  it  is  necessary  first  to  develop\\nsome  general  results  concerning  the  best  possible  prediction  of  a  languagt\\nwhen the preceding N letters are known. There will be for the language a set\\nof conditional probabilities/)^  , » , , • • •,  *y_i (j). This is the probability whet\\nthe  (N-\\\\)  gram ii ,  iz ,  • • •  , in-i occurs  that  the  next  letter will be j. Th\\nbest guess for the  next letter,  when this  (Ar-l)  gram  is known  to have  oc-\\ncurred, will be that letter having the highest conditional probability. The\\nsecond guess  should  be  that with  the  second  highest probability,  etc. A\\nmachine  or person guessing  in  the best way  would guess letters  in  the  ordei\\nof  decreasing  conditional  probability.  Thus  the  process  of  reducing  a  ter\\nwith  such  an  ideal  predictor  consists  of  a  mapping  of  the  letters  into  tb:\\nnumbers  from  1  to  27  in  such  a  way  that  the  most  probable  next  lette:\\n[conditional  on  the  known  preceding  (A7-l)  gram]  is  mapped  into  1,  etc\\nThe frequency of 1's in  the reduced  text will  then be given by\\nwhere the sum is taken over all (N-\\\\) grams ii , i2 ,  • • •  , in-\\\\ the j being tin\\none  which  maximizes  p  for  that  particular  (N-\\\\)  gram.  Similarly,  the  fn\\nquency  of  2's,  q% ,  is  given  by  the  same  formula  with j  chosen  to  be  tha\\nletter having  the  second highest value of p,  etc.\\nOn  the  basis  of  A7-grams,  a  different  set  of  probabilities  for  the  symbol\\n\", 9), ('PREDICTION  AND  ENTROPY  OF  PRINTED  ENGLISH \\n59\\n', 8), ('•  the reduced text,  q\"+1,  q%+i,  ...  ,  g£r+1,  would normally result.  Since this\\nm  H\\'  tion is on the basis of a greater knowledge of the past,  one would  ex-\\nt  the  probabilities  of  low  numbers  to  be  greater,  and  in  fact  one  can\\nprove the following inequalities:\\ns\\n»-i\\ns \\nE N+1  -^  V^  w\\nqt  >  L,  qt\\ni-i \\n', 10), ('0 10\\n', 5), ('S  =  i, 2,  • • •  .\\n', 13), ('fl1\\\\\\n', 6), ('(ii)\\n', 13), ('Th\\'s means  that  the  probability  of  being  right  in  the  first  S  guesses  when\\nthe  preceding  N  letters  are  known  is  greater  than  or  equal  to  that  when\\nlv  C/V-1)  are  known,  for  all  S.  To  prove  this,  imagine  the  probabilities\\n•bd  ii, \" \\'  , i\" > •?\\') arrang£d in a table with j running horizontally and all\\nthe  TV-grams  vertically.  The  table  will  therefore  have  27  columns  and  27N\\nrows  The term on the left of  (11)  is the sum  of the S largest entries in  each\\nrow  summed over all the rows. The right-hand member of (11)  is also a sum\\nof entries from this table in which S entries are taken from each row but not\\nnecessarily  the  S  largest.  This  follows  from  the  fact  that  the  right-hand\\nmember  would  be  calculated  from  a  similar  table  with  (TV-1)  grams  rather\\nthan TV-grams listed vertically.  Each row in the  TV-1  gram  table is the sum\\nof 27 rows of the TV-gram table, since:\\n', 10), ('27\\np ( kj is,  • ••  , iy,j)  =  IL  P(ii ,i\"z,  \\'\\' •  ,  itr,j).\\n', 5), ('.1=1\\n(12)\\nThe sum of the S largest entries in a row of the TV-1  gram table will equal\\nthe sum  of  the  27S selected  entries from  the  corresponding  27  rows of  the\\nTV-gram  table only  if  the  latter  fall into  S columns.  For  the equality  in  (11)\\nto hold for a particular S,  this must be true of every row of the TV-1  gram\\ntable. In this case, the first letter of the TV-gram does not affect the set of the\\nS most probable  choices  for  the  next  letter,  although  the  ordering  within\\nthe set may be affected. However,  if the equality in  (11)  holds for all S,  it\\nfollows that the ordering as well will be unaffected by  the first letter of the\\nJV-gram. The reduced text obtained from an ideal .V-l  gram predictor is then\\nidentical with  that obtained from an  ideal N-gram predictor.\\nSince the partial  sums\\nQs  =  E  ql\\n', 10), ('i-l\\n', 6), ('5  =  1 , 2 , - -. \\n(13)\\nare monotonic  increasing  functions  of N,  < 1  for all  N,  they must  all  ap-\\nproach  limits  as  N  —^  «>.  Their  first  differences  must  therefore  approach\\nlimits as  TV —>  =o ,  i.e.,  the  </j  approach limits,  q™ . These may be interpreted\\nas the relative frequency of correct first, second,  • • •  ,  guesses with knowl-\\nedge  of  the  entire  (infinite)  past  history  of  the  text.\\n', 10), ('60 \\nTHE  BELL  SYSTEM  TECHNICAL  JOURNAL,  JANUARY  1951\\n', 8), (\"The  ideal  A7-gram predictor can  be  considered,  as has been pointed  out,  t0\\nbe a transducer which operates on the language translating it into a sequence\\nof numbers running from 1 to 27. As such it has the following two properties'\\n1.  The  output  symbol  is  a  function  of  the  present  input  (the  predicted\\nnext letter when we think of it as a predicting device)  and the  prece<J.\\ning  (A7-!)  letters.\\n2.  It is instantaneously reversible. The original input can be recovered by\\na  suitable  operation  on  the  reduced  text  without  loss  of  time.  In  fact\\nthe  inverse  operation  also  operates  on  only  the  (N-\\\\)  preceding  sym,\\nbols of the reduced text together with the present output.\\nThe  above  proof  that  the  frequencies  of  output  symbols  with  an  N.\\\\\\ngram  predictor  satisfy  the  inequalities:\\n\", 10), (\"E > E <?r'\\n\", 16), ('5  =  1,  2,\\n•  •  •  ,  27\\n(14)\\ncan  be  applied  to  any  transducer  having  the  two  properties  listed  above,\\nIn  fact  we  can imagine  again  an array with  the  various  (A7-l)  grams  listed\\nvertically and  the present  input letter horizontally.  Since the present output\\nis a function  of  only  these  quantities  there will be a definite output symbol\\nwhich may be entered at  the corresponding intersection of row and column,\\nFurthermore,  the  instantaneous  reversibility  requires  that  no  two  entries\\nin the same row be the same. Otherwise,  there would be ambiguity  between\\nthe  two  or  more  possible  present  input  letters  when  reversing  the  transla.\\ntion.  The  total  probability  of  the  5  most  probable  symbols  in  the  output,\\n', 10), ('s\\n', 8), ('say ^ri, will be the sum of the probabilities for 5 entries in each row, summed\\n', 10), ('i\\n', 9), ('over the rows,  and  consequently is certainly not greater than the sum of the\\n5  largest  entries  in  each  row.  Thus we will have\\nZ <??>!>,• \\ni \\ni\\n5  =  1,  2 , . - ., 27 \\n(15)\\nIn other words ideal prediction as denned above enjoys a preferred  position\\namong  all  translating  operations  that  may  be  applied  to  a  language  am\\nwhich satisfy the two properties above. Roughly speaking, ideal prediction\\ncollapses  the  probabilities  of  various  symbols  to  a  small  group  more  than\\nany  other  translating  operation  involving  the  same  number  of letters  whict\\nis  instantaneously  reversible.\\nSets  of  numbers  satisfying  the  inequalities  (15)  have  been  studied  by\\nMuirhead  in  connection  with  the  theory  of  algebraic  inequalities.6  If  (15\\nholds when the q* and r{ are arranged in decreasing order of magnitude, ant\\n', 10), ('6 Hardy, Littlewood  and  Polya,  \"Inequalities,\"  Cambridge  University Press,  1934.\\n', 5), ('PREDICTION  AND  ENTROPY  OF  PRINTED  ENGLISH\\n61\\n', 8), ('27 \\n£,\\n', 7), ('.  53of  =  2-*ri,  (this is true  here  since  the  total  probability  in  each\\nis  1), then  the  first  set, gf , is said to majorizs the second  set, rt.  It  is\\n\\\\vn that the majorizing property is  equivalent  to either of  the following\\nproperties:\\n1  The  r>  can be  obtained  from  the  qt  by  a  finite  series  of  \"flows.\"  By  a\\nflow is understood a transfer of probability from a larger q to a smaller\\none,  as  heat flows from  hotter  to  cooler  bodies  but  not  in  the  reverse\\ndirection.\\n2  The  TI  can  be  obtained  from  the  <?j  by  a  generalized  \"averaging\"\\noperation.  There  exists  a  set  of  non-negative  real  numbers,  a a ,  with\\n(16)\\n5.  ENTROPY  BOUNDS  FROM  PREDICTION  FREQUENCIES\\nIf we know the frequencies  of  symbols  in  the  reduced  text with  the  ideal\\njV-gram predictor,  <?»•  ,  it  is possible  to  set  both  upper  and  lower  bounds  to\\nthe  A^gram  entropy,  FN ,  of  the  original  language.  These  bounds  are  as\\nfollows:\\ni(q\"  -  ?i+i)  log  i  <  FN  <  —  ]C  q\"  log  q\".\\n(17)\\n', 10), ('=1\\n', 9), ('The upper  bound  follows  immediately  from  the  fact  that  the  maximum\\npossible entropy in a  language with letter frequencies  q\"  is  — ^  ql  log ql.\\nThus  the  entropy  per  symbol  of  the  reduced  text  is  not  greater  than  this.\\nThe  JV-gram  entropy  of  the  reduced  text  is  equal  to  that  for  the  original\\nlanguage, as may be seen by an  inspection of  the definition  (1)  of  FX . The\\nsums involved will contain precisely, the same terms although, perhaps, in a\\ndifferent order. This upper  bound  is clearly valid,  whether or  not  the pre-\\ndiction is ideal.\\nThe lower bound is more difficult to establish. It is necessary to show that\\nwith any selection of Ar-gram probabilities p(ii,  i%, ...  ,  iN),  we will have\\n', 10), ('27\\nYs  i(q*i  —  9?+i)  log  i  <  X\\ni i, •  •  •, ijv\\n•—1\\n', 5), (\"p(i,  '  •  • \\nif/)  log  pi,  •  •  • \\niff-i(iff)\\n(18)\\nThe  left-hand  member  of  the  inequality  can  be  interpreted  as  follows:\\nImagine the q* arranged as a sequence of lines of decreasing height  (Fig. 3).\\nThe actual q* can be considered as the sum of a set of rectangular distribu-\\ntions as shown. The left member of (18) is the entropy of this set of distribu-\\ntions.  Thus,  the  i'h  rectangular  distribution  has  a  total  probability  of\\n\", 10), ('PREDICTION  AND  ENTROPY  OF  PRINTED  ENGLISH\\n63\\n62 \\nTHE  BELL  SYSTEM  TECHNICAL  JOURNAL,  JANUARY  1951\\n', 8), (\"i(qi  —  q*i+\\\\).  The  entropy  of  the  distribution  is  log  i.  The  total  entropy L* '\\nthen \\neneral theorem  that Hv(x)  <  H(x)  for any  chance variables x and y.\\nuality  holds  only  if  the  distributions  being  added  are  proportional.\\ne  may  add  the  different  components  of  the  same  width  without\\ning the entropy  (since in this case  the distributions  are proportional).\\nsuit is that  we  have  arrived at  the  rectangular  decomposition of  the\\nhv  a  series  of  processes  which  decrease  or  leave  constant  the  entropy,\\n1\\nThe  problem,  then,  is  to  show  that  any  system  of  probabilities  p(ii,  ... \\n'*'  ting  with  the  original  ^-gram  probabilities.  Consequently  the  entropy\\nIN),  with  best  prediction  frequencies  g;  has  an  entropy  FN  greater  than  Q,  q\\n, j. e original system FN is greater  than or equal to  that of  the  rectangular\\ns\\nequal  to  that  of  this  rectangular  system,  derived  from  the  same  set  of  q. \\n,Composition  of  the qt.  This  proves  the  desired  result.\\n£\\n\", 10), ('4-1\\n2  i(q\"  —  9m) log i.\\n', 7), (\"I  *\\nf\\nI \\n»'  c\\n~~*\\n\", 10), ('0.60\\n', 6), ('ORIGINAL  DISTRIBUTION \\n', 8), ('1\\n', 7), ('(\\n', 4), ('1\\n', 8), ('Tt will be noted that the lower bound is definitely less than FN unless each\\nOf the  table  has a  rectangular  distribution.  This  requires  that  for  each\\n', 10), ('0.20\\n', 7), ('10.05 \\n10.05 \\n0.025 \\n0.025 \\n0.025 \\n0.025\\n1i \\nla \\n13 \\n1* \\nIs \\n<U \\n<l7 \\n1e\\no.4o (q,-qa)\\nRECTANGULAR  DECOMPOSITION \\n', 8), ('~~\\\\  \\\\^ -UPPER  BOUND\\n', 6), ('3  ivT^JTl \\ni Ki  |p\"U.~ \\ni \\n__  I  I  ?^4>i  t  t  I \\n', 12), ('I \\n1 1 1 11  \\\\\\\\\\\\\\nli\\n', 18), ('1 \\nLOWER  BOUND—•J^f*>~~ \\n', 8), ('i  \" MM  Tn \\nI \\nI \\nI \\n1 \\n', 38), ('I \\nI \\nI \\nI \\nI \\nI \\n', 21), ('. \\nj\\nY \\n9 \\n', 8), ('I \\nI\\n', 21), ('I  I\\nA \\n', 15), ('i \\nII \\n', 38), ('A\\n', 5), ('i\\n', 8), ('iIIT\\nII  \\\\u\\n', 38), ('1\\nZ \\n°0\\n10 \\nNUMBER  OF  LETTERS\\nFig. 4—Upper and lower experimental bounds for the entropy of 27-letter English.\\n14  15  \"  100\\n6  78\\n12  13 \\n11 \\n4 \\n5 \\n9\\n3\\n', 5), ('0.15 \\n10.15 cq2-q3)\\npossible  (A7-l)  gram  there is a  set  of  possible  next  letters  each  with  equal\\nprobability, while all other next letters have zero probability.\\n', 10), ('10.025 \\n10.025 \\nI \\n, \\nI \\n. \\nIfcf-oS \\n, « f c 1 »\\\\ \\n, \\n, \\n', 8), (\"It will now  be  shown  that  the upper  and lower bounds  for  FK  given  by\\nle | \\n—'  (17) are monotonic decreasing functions of N. This is true of the upper bound\\nI\\n, 0.025 q,.\\nsince the qt+l majorize the ql and any equalizing flow in a set of probabilities\\nincreases the entropy. To prove that the lower bound is also monotonic de-\\n\", 10), ('Fig.  3—Rectangular  decomposition  of  a  monotonic  distribution.\\n', 8), (\". \\n,,  creasing  we  will  show  that  the  quantity\\nThe  qi  as  we  have  said  are  obtained  from  the p(ii, ...  ,  i.v)  by  arrangii\\nRe\\neach row of the table in decreasing order of magnitude and adding vertical!\\nThus the  q^ are the sum of  a set of monotonic decreasing distributions, E\\nLOtt \\ne  tht  K increased by an equalizing flow among the qi. Suppose a flow occurs from\\nplace each of these distributions by its rectangular decomposition. Each c\\nid  al  ?i to  g,-+1,  the  first  decreased  by  Ag  and  the  latter  increased  by  the  same\\nis  replaced  then  (in  general)  by  27  rectangular distributions;  the  qt are  '\\nial tt amount. Then three terms in the sum change and the change in U is given by\\nsum of 27 x 27W rectangular distributions, of from 1 to 27 elements, and\\nstarting  at  the left column.  The  entropy  for  this  set is less  than or  equa'\\nthat  of  the  original set  of  distributions  since  a  termwise  addition  of  twt\\nmore  distributions  always  increases  entropy.  This  is  actually  an  applicaf\\n\", 10), ('lVO°:  Atf = [ - ( «-  1) log (i -  1) +  2t log i -  (i + 1) log (i +  l)]Ag  (21)\\n:atiot\\n', 6), ('f/  =  X)  i(qi  -  9>+i)  log  i\\n(20)\\n*\\n', 10), ('64\\nTHE  BELL  SYSTEM  TECHNICAL  JOURNAL,  JANUARY  1951\\n', 7), ('The  term  in  brackets  has  the  form  —f(x  -  1)  +  2f(x)  -  f(x  +  1)  where\\'\\nf(x)  =  x log x. Now/(a;) is a function which is concave upward for positive x\\nsince/\" (x)  =  \\\\/x >  0. The bracketed term is twice the difference between the\\nordinate of the curve at x  =  i and the ordinate of the midpoint of the chord\\njoining i —  1  and  i +  1,  and consequently is negative.  Since A§ also is nega.\\ntive,  the change in  U brought about by the flow is positive. An even simpler  \\'\\ncalculation shows that this is also true for a flow from  q± to  q^ or from  g2e to\\n<?27  (where  only  two  terms  of  the  sum  are affected).  It  follows that  the  lower\\nbound  based  on  the  TV-gram  prediction  frequencies  <?;  is  greater  than  or\\nequal  to  that  calculated  from  the  N +  1  gram  frequencies  ql+1.\\n6.  EXPERIMENTAL  BOUNDS  FOR  ENGLISH\\nWorking from the data of Table I, the upper and lower bounds were calcu-\\nlated from  relations  (17).  The  data were first smoothed  somewhat to  over-\\ncome  the  worst  sampling  fluctuations.  The  low  numbers  in  this  table  are\\nthe  least  reliable  and  these  were  averaged  together  in  groups.  Thus,  in\\ncolumn  4,  the  47,  18  and  14  were  not  changed  but  the  remaining  group\\ntotaling 21 was divided uniformly over the rows from 4 to 20. The upper and\\nlower bounds given by  (17)  were then  calculated for each  column giving  the\\nfollowing results:\\n', 10), ('Column \\n', 6), ('Upper \\nLower \\n', 8), ('1 \\n3 \\n2 \\n8 \\n4.03  3.42  3.0  2.6  2 .7  2.2  2.8  1.8  1.9  2.1  2.2  2.3  2.1  1.7  2.1  13\\n3.19  2.50  2 . 1 1 . 7 1 . 7 1 . 3 1 . 8 1 . 0 1 . 0 1 . 0 1 . 3 1 . 3 1 .2 \\n', 6), ('. 9 1 .2 \\n', 8), ('13 \\n10 \\n12 \\n11 \\n14 \\n15 \\n4 \\n5 \\n7 \\n9 \\n6 \\n', 6), ('.6\\n', 8), ('100\\n', 6)]\n"
     ]
    }
   ],
   "source": [
    "result=scrape_pdf_PDFMiner(url)"
   ]
  },
  {
   "cell_type": "code",
   "execution_count": 6,
   "id": "83305283",
   "metadata": {},
   "outputs": [
    {
     "data": {
      "text/plain": [
       "56"
      ]
     },
     "execution_count": 6,
     "metadata": {},
     "output_type": "execute_result"
    }
   ],
   "source": [
    "len(result)"
   ]
  },
  {
   "cell_type": "code",
   "execution_count": 7,
   "id": "890bb3fc",
   "metadata": {},
   "outputs": [],
   "source": [
    "from pyvis.network import Network\n",
    "import networkx as nx\n",
    "\n",
    "G = nx.DiGraph()\n",
    "\n",
    "G.add_node(1, label=result[1].metadata['heading'] , title=result[1].metadata['heading'] , color=\"red\")\n",
    "\n",
    "for i in range(2,len(result)):\n",
    "    topic_name=\"Topic_\"+str(i)\n",
    "    content_name=topic_name+'_'+'content'\n",
    "    G.add_node(topic_name, label=result[i].metadata['heading'] , title=result[i].metadata['heading'],color=\"blue\")\n",
    "    G.add_node(content_name, label=content_name , title=result[i].page_content, color=\"green\")\n",
    "    G.add_edge(1,topic_name)\n",
    "    G.add_edge(topic_name,content_name)\n"
   ]
  },
  {
   "cell_type": "code",
   "execution_count": 8,
   "id": "d6f7e078",
   "metadata": {},
   "outputs": [
    {
     "name": "stdout",
     "output_type": "stream",
     "text": [
      "Warning: When  cdn_resources is 'local' jupyter notebook has issues displaying graphics on chrome/safari. Use cdn_resources='in_line' or cdn_resources='remote' if you have issues viewing graphics in a notebook.\n",
      "nx1.html\n"
     ]
    },
    {
     "data": {
      "text/html": [
       "\n",
       "        <iframe\n",
       "            width=\"2000px\"\n",
       "            height=\"800px\"\n",
       "            src=\"nx1.html\"\n",
       "            frameborder=\"0\"\n",
       "            allowfullscreen\n",
       "            \n",
       "        ></iframe>\n",
       "        "
      ],
      "text/plain": [
       "<IPython.lib.display.IFrame at 0x714449ac6dd0>"
      ]
     },
     "execution_count": 8,
     "metadata": {},
     "output_type": "execute_result"
    }
   ],
   "source": [
    "\n",
    "nt = Network('800px', '2000px',notebook=True)\n",
    "# populates the nodes and edges data structures\n",
    "nt.from_nx(G)\n",
    "nt.toggle_physics(True)\n",
    "nt.show('nx1.html')\n"
   ]
  },
  {
   "cell_type": "code",
   "execution_count": 49,
   "id": "64dc7cb4",
   "metadata": {},
   "outputs": [
    {
     "data": {
      "text/plain": [
       "<networkx.classes.digraph.DiGraph at 0x7ef0d95a2d40>"
      ]
     },
     "execution_count": 49,
     "metadata": {},
     "output_type": "execute_result"
    }
   ],
   "source": [
    "G"
   ]
  },
  {
   "cell_type": "code",
   "execution_count": 140,
   "id": "e29a49e8",
   "metadata": {},
   "outputs": [
    {
     "data": {
      "text/plain": [
       "OutEdgeView([(1, 'Topic_2'), (1, 'Topic_3'), (1, 'Topic_4'), (1, 'Topic_5'), (1, 'Topic_6'), (1, 'Topic_7'), (1, 'Topic_8'), (1, 'Topic_9'), (1, 'Topic_10'), (1, 'Topic_11'), (1, 'Topic_12'), (1, 'Topic_13'), (1, 'Topic_14'), ('Topic_2', 'Topic_2_content'), ('Topic_3', 'Topic_3_content'), ('Topic_4', 'Topic_4_content'), ('Topic_5', 'Topic_5_content'), ('Topic_6', 'Topic_6_content'), ('Topic_7', 'Topic_7_content'), ('Topic_8', 'Topic_8_content'), ('Topic_9', 'Topic_9_content'), ('Topic_10', 'Topic_10_content'), ('Topic_11', 'Topic_11_content'), ('Topic_12', 'Topic_12_content'), ('Topic_13', 'Topic_13_content'), ('Topic_14', 'Topic_14_content')])"
      ]
     },
     "execution_count": 140,
     "metadata": {},
     "output_type": "execute_result"
    }
   ],
   "source": [
    "G.edges"
   ]
  },
  {
   "cell_type": "code",
   "execution_count": 146,
   "id": "f59a9ee7",
   "metadata": {},
   "outputs": [
    {
     "name": "stdout",
     "output_type": "stream",
     "text": [
      "Warning: When  cdn_resources is 'local' jupyter notebook has issues displaying graphics on chrome/safari. Use cdn_resources='in_line' or cdn_resources='remote' if you have issues viewing graphics in a notebook.\n",
      "nx.html\n"
     ]
    },
    {
     "data": {
      "text/html": [
       "\n",
       "        <iframe\n",
       "            width=\"1400px\"\n",
       "            height=\"800px\"\n",
       "            src=\"nx.html\"\n",
       "            frameborder=\"0\"\n",
       "            allowfullscreen\n",
       "            \n",
       "        ></iframe>\n",
       "        "
      ],
      "text/plain": [
       "<IPython.lib.display.IFrame at 0x75a2f63ff7f0>"
      ]
     },
     "execution_count": 146,
     "metadata": {},
     "output_type": "execute_result"
    }
   ],
   "source": []
  },
  {
   "cell_type": "code",
   "execution_count": null,
   "id": "034a5832",
   "metadata": {},
   "outputs": [],
   "source": []
  }
 ],
 "metadata": {
  "kernelspec": {
   "display_name": "search_agent_poc",
   "language": "python",
   "name": "search_agent_poc"
  },
  "language_info": {
   "codemirror_mode": {
    "name": "ipython",
    "version": 3
   },
   "file_extension": ".py",
   "mimetype": "text/x-python",
   "name": "python",
   "nbconvert_exporter": "python",
   "pygments_lexer": "ipython3",
   "version": "3.10.14"
  }
 },
 "nbformat": 4,
 "nbformat_minor": 5
}
