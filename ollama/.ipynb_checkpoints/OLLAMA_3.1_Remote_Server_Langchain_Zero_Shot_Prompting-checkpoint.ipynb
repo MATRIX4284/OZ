{
 "cells": [
  {
   "cell_type": "code",
   "execution_count": 3,
   "id": "650e041b",
   "metadata": {},
   "outputs": [],
   "source": [
    "from ollama import Client\n",
    "client = Client(host='http://192.168.50.100:11434')\n",
    "response = client.chat(model='llama3.1', messages=[\n",
    "  {\n",
    "    'role': 'user',\n",
    "    'content': 'Why is the sky blue?',\n",
    "  },\n",
    "])\n",
    "\n",
    "\n",
    "response"
   ]
  },
  {
   "cell_type": "code",
   "execution_count": 4,
   "id": "54060ce5",
   "metadata": {},
   "outputs": [
    {
     "data": {
      "text/plain": [
       "{'model': 'llama3.1',\n",
       " 'created_at': '2024-08-12T01:07:10.439967657Z',\n",
       " 'message': {'role': 'assistant',\n",
       "  'content': \"The sky appears blue to us because of a phenomenon called scattering, which occurs when sunlight interacts with the tiny molecules of gases in the Earth's atmosphere. Here's a simplified explanation:\\n\\n1. **Sunlight enters the atmosphere**: When the sun shines, it sends out a wide range of electromagnetic radiation, including visible light, ultraviolet (UV) rays, and X-rays.\\n2. **Scattering occurs**: As sunlight travels through the atmosphere, it encounters tiny molecules of gases like nitrogen (N2) and oxygen (O2). These molecules are much smaller than the wavelength of light, so they can scatter the light in all directions.\\n3. **Blue light is scattered more**: The shorter wavelengths of visible light, such as blue and violet, are scattered more than the longer wavelengths, like red and orange. This is because the tiny gas molecules are more effective at scattering the shorter wavelengths.\\n4. **Our eyes perceive the scattered light**: As a result of this scattering process, the blue light is dispersed throughout the atmosphere in all directions. When we look up at the sky, our eyes see this scattered blue light as the dominant color, giving the appearance of a blue sky.\\n\\nThis phenomenon is known as Rayleigh scattering, named after the British physicist Lord Rayleigh, who first described it in the late 19th century. It's not just limited to the sky; you can also observe Rayleigh scattering in other situations, such as when light passes through a prism or a cloud.\\n\\nKeep in mind that this explanation is a simplified version of the complex processes involved. Other factors, like atmospheric conditions and pollution, can affect the color of the sky. But overall, the main reason for the blue sky is the scattering of sunlight by tiny gas molecules in the atmosphere!\"},\n",
       " 'done_reason': 'stop',\n",
       " 'done': True,\n",
       " 'total_duration': 93726846408,\n",
       " 'load_duration': 86847039895,\n",
       " 'prompt_eval_count': 17,\n",
       " 'prompt_eval_duration': 66962000,\n",
       " 'eval_count': 356,\n",
       " 'eval_duration': 6768164000}"
      ]
     },
     "execution_count": 4,
     "metadata": {},
     "output_type": "execute_result"
    }
   ],
   "source": [
    "response"
   ]
  },
  {
   "cell_type": "code",
   "execution_count": 5,
   "id": "2c629ed5",
   "metadata": {},
   "outputs": [],
   "source": [
    "from langchain_ollama import OllamaLLM\n",
    "\n",
    "from langchain_community.chat_models import ChatOllama\n",
    "from langchain_core.messages import HumanMessage,SystemMessage,AIMessage\n",
    "from langchain_core.output_parsers import StrOutputParser\n",
    "from langchain_core.prompts import ChatPromptTemplate\n",
    "\n",
    "#llm = OllamaLLM(model=\"llama3.1\")\n",
    "\n",
    "llm = ChatOllama(base_url=\"http://192.168.50.100:11434\",model=\"llama3.1\")\n",
    "\n"
   ]
  },
  {
   "cell_type": "code",
   "execution_count": 6,
   "id": "c32ad1eb",
   "metadata": {},
   "outputs": [],
   "source": [
    "messages = [\n",
    "    SystemMessage(content=\"You are very good Kubernetes expert.With your indepth knowledge of kuberetes \\\n",
    "    and cloud technology you will find out or extract relevant topics and keyphrases that explains input text chunk.\\\n",
    "    You will output the extratcted topics or keyphrases in form of a list\"),\n",
    "    HumanMessage(\n",
    "        content=\"Through the years, Google developed an internal system called Borg (and later a new \\\n",
    "system called Omega), that helped both application developers and system administra- \\\n",
    "tors manage those thousands of applications and services. In addition to simplifying \\\n",
    "the development and management, it also helped them achieve a much higher utiliza- \\\n",
    "tion of their infrastructure, which is important when your organization is that large. \\\n",
    "When you run hundreds of thousands of machines, even tiny improvements in utiliza- \\\n",
    "tion mean savings in the millions of dollars, so the incentives for developing such a \\\n",
    "system are clear. \\\n",
    "After having kept Borg and Omega secret for a whole decade, in 2014 Google \\\n",
    "introduced Kubernetes, an open-source system based on the experience gained \\\n",
    "through Borg, Omega, and other internal Google systems.\"\n",
    "    )\n",
    "]"
   ]
  },
  {
   "cell_type": "code",
   "execution_count": 7,
   "id": "52aaca89",
   "metadata": {},
   "outputs": [
    {
     "name": "stdout",
     "output_type": "stream",
     "text": [
      "content=\"Here is the list of extracted topics/keyphrases:\\n\\n* **Google's Internal System**: Borg, Omega\\n* **Cloud Management**: simplifying development and management of thousands of applications and services\\n* **Infrastructure Utilization**: achieving higher utilization to save millions of dollars\\n* **Open-Source Project**: Kubernetes, based on Google's internal experience with Borg, Omega, and other systems\\n* **Kubernetes Introduction**: 2014, an open-source system for cloud management\" response_metadata={'model': 'llama3.1', 'created_at': '2024-08-12T01:11:28.058528169Z', 'message': {'role': 'assistant', 'content': ''}, 'done_reason': 'stop', 'done': True, 'total_duration': 2254773580, 'load_duration': 67919174, 'prompt_eval_count': 220, 'prompt_eval_duration': 317972000, 'eval_count': 96, 'eval_duration': 1732026000} id='run-9adbe121-14fd-4ffb-9478-9bfc8dad93ed-0'\n"
     ]
    }
   ],
   "source": [
    "print(llm.invoke(messages))"
   ]
  },
  {
   "cell_type": "code",
   "execution_count": null,
   "id": "4ee97150",
   "metadata": {},
   "outputs": [],
   "source": []
  }
 ],
 "metadata": {
  "kernelspec": {
   "display_name": "search_agent_poc",
   "language": "python",
   "name": "search_agent_poc"
  },
  "language_info": {
   "codemirror_mode": {
    "name": "ipython",
    "version": 3
   },
   "file_extension": ".py",
   "mimetype": "text/x-python",
   "name": "python",
   "nbconvert_exporter": "python",
   "pygments_lexer": "ipython3",
   "version": "3.10.14"
  }
 },
 "nbformat": 4,
 "nbformat_minor": 5
}
