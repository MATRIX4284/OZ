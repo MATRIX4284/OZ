{
 "cells": [
  {
   "cell_type": "code",
   "execution_count": 1,
   "id": "650e041b",
   "metadata": {},
   "outputs": [
    {
     "data": {
      "text/plain": [
       "{'model': 'llama3.1',\n",
       " 'created_at': '2024-08-18T15:46:16.737399483Z',\n",
       " 'message': {'role': 'assistant',\n",
       "  'content': \"The sky appears blue to us because of a phenomenon called scattering, which occurs when sunlight interacts with the tiny molecules of gases in the atmosphere. Here's a simplified explanation:\\n\\n1. **Sunlight enters Earth's atmosphere**: When the sun shines, it sends out all kinds of electromagnetic radiation, including visible light, ultraviolet (UV) radiation, and infrared (IR) radiation.\\n2. **Light is scattered by gas molecules**: As sunlight travels through the atmosphere, it encounters tiny molecules of gases such as nitrogen (N2) and oxygen (O2). These molecules are much smaller than the wavelength of light, so they scatter the light in all directions.\\n3. **Blue light is scattered more**: The shorter wavelengths of light, like blue and violet, are scattered by the gas molecules even more efficiently than the longer wavelengths, such as red and orange. This is because the scattering effect increases with decreasing wavelength (or increasing frequency).\\n4. **Our eyes see the scattered blue light**: When we look at the sky, we see the blue light that has been scattered in all directions by the atmosphere. The blue color dominates our perception of the sky, giving it its characteristic blue appearance.\\n\\nIt's worth noting that the exact shade of blue can vary depending on atmospheric conditions, such as:\\n\\n* **Time of day**: During sunrise and sunset, the sky can take on hues of red, orange, and pink due to the scattering of light by atmospheric particles.\\n* **Atmospheric pollution**: Tiny particles in polluted air can scatter light in a way that gives the sky a hazy or grayish appearance.\\n* **Clouds and fog**: When clouds or fog are present, they can reflect and absorb light, changing the apparent color of the sky.\\n\\nIn summary, the sky appears blue because of the scattering of sunlight by tiny gas molecules in the atmosphere, which favors shorter wavelengths like blue light.\"},\n",
       " 'done_reason': 'stop',\n",
       " 'done': True,\n",
       " 'total_duration': 12354949009,\n",
       " 'load_duration': 4986891035,\n",
       " 'prompt_eval_count': 17,\n",
       " 'prompt_eval_duration': 64684000,\n",
       " 'eval_count': 381,\n",
       " 'eval_duration': 7256374000}"
      ]
     },
     "execution_count": 1,
     "metadata": {},
     "output_type": "execute_result"
    }
   ],
   "source": [
    "from ollama import Client\n",
    "client = Client(host='http://192.168.50.100:11434')\n",
    "response = client.chat(model='llama3.1', messages=[\n",
    "  {\n",
    "    'role': 'user',\n",
    "    'content': 'Why is the sky blue?',\n",
    "  },\n",
    "])\n",
    "\n",
    "\n",
    "response"
   ]
  },
  {
   "cell_type": "code",
   "execution_count": 2,
   "id": "54060ce5",
   "metadata": {},
   "outputs": [
    {
     "data": {
      "text/plain": [
       "{'model': 'llama3.1',\n",
       " 'created_at': '2024-08-18T15:46:16.737399483Z',\n",
       " 'message': {'role': 'assistant',\n",
       "  'content': \"The sky appears blue to us because of a phenomenon called scattering, which occurs when sunlight interacts with the tiny molecules of gases in the atmosphere. Here's a simplified explanation:\\n\\n1. **Sunlight enters Earth's atmosphere**: When the sun shines, it sends out all kinds of electromagnetic radiation, including visible light, ultraviolet (UV) radiation, and infrared (IR) radiation.\\n2. **Light is scattered by gas molecules**: As sunlight travels through the atmosphere, it encounters tiny molecules of gases such as nitrogen (N2) and oxygen (O2). These molecules are much smaller than the wavelength of light, so they scatter the light in all directions.\\n3. **Blue light is scattered more**: The shorter wavelengths of light, like blue and violet, are scattered by the gas molecules even more efficiently than the longer wavelengths, such as red and orange. This is because the scattering effect increases with decreasing wavelength (or increasing frequency).\\n4. **Our eyes see the scattered blue light**: When we look at the sky, we see the blue light that has been scattered in all directions by the atmosphere. The blue color dominates our perception of the sky, giving it its characteristic blue appearance.\\n\\nIt's worth noting that the exact shade of blue can vary depending on atmospheric conditions, such as:\\n\\n* **Time of day**: During sunrise and sunset, the sky can take on hues of red, orange, and pink due to the scattering of light by atmospheric particles.\\n* **Atmospheric pollution**: Tiny particles in polluted air can scatter light in a way that gives the sky a hazy or grayish appearance.\\n* **Clouds and fog**: When clouds or fog are present, they can reflect and absorb light, changing the apparent color of the sky.\\n\\nIn summary, the sky appears blue because of the scattering of sunlight by tiny gas molecules in the atmosphere, which favors shorter wavelengths like blue light.\"},\n",
       " 'done_reason': 'stop',\n",
       " 'done': True,\n",
       " 'total_duration': 12354949009,\n",
       " 'load_duration': 4986891035,\n",
       " 'prompt_eval_count': 17,\n",
       " 'prompt_eval_duration': 64684000,\n",
       " 'eval_count': 381,\n",
       " 'eval_duration': 7256374000}"
      ]
     },
     "execution_count": 2,
     "metadata": {},
     "output_type": "execute_result"
    }
   ],
   "source": [
    "response"
   ]
  },
  {
   "cell_type": "code",
   "execution_count": 1,
   "id": "2c629ed5",
   "metadata": {},
   "outputs": [],
   "source": [
    "from langchain_ollama import OllamaLLM\n",
    "\n",
    "from langchain_community.chat_models import ChatOllama\n",
    "from langchain_core.messages import HumanMessage,SystemMessage,AIMessage\n",
    "from langchain_core.output_parsers import StrOutputParser\n",
    "from langchain_core.prompts import ChatPromptTemplate\n",
    "\n",
    "#llm = OllamaLLM(model=\"llama3.1\")\n",
    "\n",
    "llm = ChatOllama(base_url=\"http://192.168.50.100:11434\",model=\"llama3.1\")\n",
    "\n"
   ]
  },
  {
   "cell_type": "code",
   "execution_count": 2,
   "id": "c32ad1eb",
   "metadata": {},
   "outputs": [],
   "source": [
    "messages = [\n",
    "    SystemMessage(content=\"You are very good Kubernetes expert.With your indepth knowledge of kuberetes \\\n",
    "    and cloud technology you will find out or extract relevant topics and keyphrases that explains input text chunk.\\\n",
    "    You will output the extratcted topics or keyphrases in form of a list\"),\n",
    "    HumanMessage(\n",
    "        content=\"Through the years, Google developed an internal system called Borg (and later a new \\\n",
    "system called Omega), that helped both application developers and system administra- \\\n",
    "tors manage those thousands of applications and services. In addition to simplifying \\\n",
    "the development and management, it also helped them achieve a much higher utiliza- \\\n",
    "tion of their infrastructure, which is important when your organization is that large. \\\n",
    "When you run hundreds of thousands of machines, even tiny improvements in utiliza- \\\n",
    "tion mean savings in the millions of dollars, so the incentives for developing such a \\\n",
    "system are clear. \\\n",
    "After having kept Borg and Omega secret for a whole decade, in 2014 Google \\\n",
    "introduced Kubernetes, an open-source system based on the experience gained \\\n",
    "through Borg, Omega, and other internal Google systems.\"\n",
    "    )\n",
    "]"
   ]
  },
  {
   "cell_type": "code",
   "execution_count": 3,
   "id": "52aaca89",
   "metadata": {},
   "outputs": [
    {
     "name": "stderr",
     "output_type": "stream",
     "text": [
      "\n",
      "KeyboardInterrupt\n",
      "\n"
     ]
    }
   ],
   "source": [
    "print(llm.invoke(messages))"
   ]
  },
  {
   "cell_type": "code",
   "execution_count": null,
   "id": "4ee97150",
   "metadata": {},
   "outputs": [],
   "source": []
  }
 ],
 "metadata": {
  "kernelspec": {
   "display_name": "search_agent_poc",
   "language": "python",
   "name": "search_agent_poc"
  },
  "language_info": {
   "codemirror_mode": {
    "name": "ipython",
    "version": 3
   },
   "file_extension": ".py",
   "mimetype": "text/x-python",
   "name": "python",
   "nbconvert_exporter": "python",
   "pygments_lexer": "ipython3",
   "version": "3.10.14"
  }
 },
 "nbformat": 4,
 "nbformat_minor": 5
}
