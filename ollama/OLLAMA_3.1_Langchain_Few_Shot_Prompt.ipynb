{
 "cells": [
  {
   "cell_type": "code",
   "execution_count": 15,
   "id": "2c629ed5",
   "metadata": {},
   "outputs": [],
   "source": [
    "from langchain_ollama import OllamaLLM\n",
    "\n",
    "from langchain_community.chat_models import ChatOllama\n",
    "from langchain_core.messages import HumanMessage,SystemMessage,AIMessage\n",
    "from langchain_core.output_parsers import StrOutputParser\n",
    "from langchain_core.prompts import ChatPromptTemplate\n",
    "\n",
    "#llm = OllamaLLM(model=\"llama3.1\")\n",
    "\n",
    "llm = ChatOllama(model=\"llama3.1\")\n",
    "\n"
   ]
  },
  {
   "cell_type": "code",
   "execution_count": 16,
   "id": "c32ad1eb",
   "metadata": {},
   "outputs": [],
   "source": [
    "messages = [\n",
    "    SystemMessage(content=\"You are very sports jounalist for the last 20 years.Your goal is reply to the user's\"\\\n",
    "                 \"question or chat with very accurate answer\"),\n",
    "    HumanMessage(\n",
    "        content=\"It was a very good match between india and Australia in final 2024\"),\n",
    "    AIMessage(\n",
    "        content=\"Yes it lost the match.But it was a good display of cricketing skills on field\"),\n",
    "    HumanMessage(\n",
    "        content=\"How about the final of world cup 2011 dinal between india and srilanka\")\n",
    "        ]"
   ]
  },
  {
   "cell_type": "code",
   "execution_count": 17,
   "id": "52aaca89",
   "metadata": {},
   "outputs": [
    {
     "name": "stdout",
     "output_type": "stream",
     "text": [
      "content=\"What a moment that was! India's Jumbo Army, led by MS Dhoni, defeated Sri Lanka in the World Cup Final at Wankhede Stadium in Mumbai on April 2, 2011. The Men in Blue won the match by 6 wickets, chasing down a target of 275 runs.\\n\\nIt was a memorable day for Indian cricket and its fans. Virender Sehwag and Sachin Tendulkar laid the foundation with an opening stand of 41 runs, while Yuvraj Singh and MS Dhoni took India home with a thrilling finish.\\n\\nSri Lanka's Kumar Sangakkara had earlier made a mammoth 124 runs off 88 balls to propel his team to a competitive total. But in the end, it was India's potent middle-order that proved too strong for the Sri Lankan bowling attack.\\n\\nThe win marked India's second World Cup title and was a testament to the team's determination and skill. It was a momentous day in Indian cricket history!\" response_metadata={'model': 'llama3.1', 'created_at': '2024-08-16T23:03:07.235500211Z', 'message': {'role': 'assistant', 'content': ''}, 'done_reason': 'stop', 'done': True, 'total_duration': 4282088417, 'load_duration': 21026824, 'prompt_eval_count': 104, 'prompt_eval_duration': 90206000, 'eval_count': 206, 'eval_duration': 3945447000} id='run-9adb7c64-a8b5-48bd-90ac-041476d973c9-0'\n"
     ]
    }
   ],
   "source": [
    "print(llm.invoke(messages))"
   ]
  },
  {
   "cell_type": "code",
   "execution_count": null,
   "id": "4ee97150",
   "metadata": {},
   "outputs": [],
   "source": []
  }
 ],
 "metadata": {
  "kernelspec": {
   "display_name": "search_agent_poc",
   "language": "python",
   "name": "search_agent_poc"
  },
  "language_info": {
   "codemirror_mode": {
    "name": "ipython",
    "version": 3
   },
   "file_extension": ".py",
   "mimetype": "text/x-python",
   "name": "python",
   "nbconvert_exporter": "python",
   "pygments_lexer": "ipython3",
   "version": "3.10.14"
  }
 },
 "nbformat": 4,
 "nbformat_minor": 5
}
